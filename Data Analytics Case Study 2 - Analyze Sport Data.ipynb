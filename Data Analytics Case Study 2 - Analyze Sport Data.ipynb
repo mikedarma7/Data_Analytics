{
 "cells": [
  {
   "cell_type": "markdown",
   "metadata": {},
   "source": [
    "# A. Data Preparation and Cleaning"
   ]
  },
  {
   "cell_type": "markdown",
   "metadata": {},
   "source": [
    "In this notebook we will attempt to work on the sample data analytics problem offered by Abhishek Agarrwal about Analyzing Sports Data. Link to his Youtube content for this problem https://www.youtube.com/watch?v=8Ku98c2w0Dk&t=21s"
   ]
  },
  {
   "cell_type": "markdown",
   "metadata": {},
   "source": [
    "### Essential Libraries\n",
    "First and foremost is importing the relevant libraries\n",
    "\n",
    "> NumPy : Library for Numeric Computations in Python  \n",
    "> Pandas : Library for Data Acquisition and Preparation  \n",
    "> Matplotlib and Seaborn : Library for Data Visualization\n"
   ]
  },
  {
   "cell_type": "code",
   "execution_count": 1,
   "metadata": {},
   "outputs": [],
   "source": [
    "import pandas as pd\n",
    "import numpy as np\n",
    "import matplotlib.pyplot as plt\n",
    "import seaborn as sb\n",
    "\n",
    "#Setting the default display options\n",
    "pd.options.display.max_rows = 999"
   ]
  },
  {
   "cell_type": "code",
   "execution_count": 2,
   "metadata": {},
   "outputs": [
    {
     "data": {
      "text/html": [
       "<div>\n",
       "<style scoped>\n",
       "    .dataframe tbody tr th:only-of-type {\n",
       "        vertical-align: middle;\n",
       "    }\n",
       "\n",
       "    .dataframe tbody tr th {\n",
       "        vertical-align: top;\n",
       "    }\n",
       "\n",
       "    .dataframe thead th {\n",
       "        text-align: right;\n",
       "    }\n",
       "</style>\n",
       "<table border=\"1\" class=\"dataframe\">\n",
       "  <thead>\n",
       "    <tr style=\"text-align: right;\">\n",
       "      <th></th>\n",
       "      <th>Team 1</th>\n",
       "      <th>Team 2</th>\n",
       "      <th>Winner</th>\n",
       "      <th>Margin</th>\n",
       "      <th>Ground</th>\n",
       "      <th>Match Date</th>\n",
       "      <th>Scorecard</th>\n",
       "    </tr>\n",
       "  </thead>\n",
       "  <tbody>\n",
       "    <tr>\n",
       "      <th>0</th>\n",
       "      <td>New Zealand</td>\n",
       "      <td>Pakistan</td>\n",
       "      <td>New Zealand</td>\n",
       "      <td>61 runs</td>\n",
       "      <td>Wellington</td>\n",
       "      <td>2018-01-06</td>\n",
       "      <td>ODI # 3946</td>\n",
       "    </tr>\n",
       "    <tr>\n",
       "      <th>1</th>\n",
       "      <td>New Zealand</td>\n",
       "      <td>Pakistan</td>\n",
       "      <td>New Zealand</td>\n",
       "      <td>8 wickets</td>\n",
       "      <td>Nelson</td>\n",
       "      <td>2018-01-09</td>\n",
       "      <td>ODI # 3947</td>\n",
       "    </tr>\n",
       "    <tr>\n",
       "      <th>2</th>\n",
       "      <td>U.A.E.</td>\n",
       "      <td>Ireland</td>\n",
       "      <td>Ireland</td>\n",
       "      <td>4 wickets</td>\n",
       "      <td>ICCA Dubai</td>\n",
       "      <td>2018-01-11</td>\n",
       "      <td>ODI # 3948</td>\n",
       "    </tr>\n",
       "    <tr>\n",
       "      <th>3</th>\n",
       "      <td>New Zealand</td>\n",
       "      <td>Pakistan</td>\n",
       "      <td>New Zealand</td>\n",
       "      <td>183 runs</td>\n",
       "      <td>Dunedin</td>\n",
       "      <td>2018-01-13</td>\n",
       "      <td>ODI # 3949</td>\n",
       "    </tr>\n",
       "    <tr>\n",
       "      <th>4</th>\n",
       "      <td>U.A.E.</td>\n",
       "      <td>Ireland</td>\n",
       "      <td>Ireland</td>\n",
       "      <td>67 runs</td>\n",
       "      <td>ICCA Dubai</td>\n",
       "      <td>2018-01-13</td>\n",
       "      <td>ODI # 3950</td>\n",
       "    </tr>\n",
       "  </tbody>\n",
       "</table>\n",
       "</div>"
      ],
      "text/plain": [
       "        Team 1    Team 2       Winner     Margin      Ground Match Date  \\\n",
       "0  New Zealand  Pakistan  New Zealand    61 runs  Wellington 2018-01-06   \n",
       "1  New Zealand  Pakistan  New Zealand  8 wickets      Nelson 2018-01-09   \n",
       "2       U.A.E.   Ireland      Ireland  4 wickets  ICCA Dubai 2018-01-11   \n",
       "3  New Zealand  Pakistan  New Zealand   183 runs     Dunedin 2018-01-13   \n",
       "4       U.A.E.   Ireland      Ireland    67 runs  ICCA Dubai 2018-01-13   \n",
       "\n",
       "    Scorecard  \n",
       "0  ODI # 3946  \n",
       "1  ODI # 3947  \n",
       "2  ODI # 3948  \n",
       "3  ODI # 3949  \n",
       "4  ODI # 3950  "
      ]
     },
     "execution_count": 2,
     "metadata": {},
     "output_type": "execute_result"
    }
   ],
   "source": [
    "raw = pd.read_excel('2019_ODI_Cricket_Matches.xlsx')\n",
    "raw.head()"
   ]
  },
  {
   "cell_type": "code",
   "execution_count": 3,
   "metadata": {},
   "outputs": [
    {
     "data": {
      "text/plain": [
       "(128, 7)"
      ]
     },
     "execution_count": 3,
     "metadata": {},
     "output_type": "execute_result"
    }
   ],
   "source": [
    "raw.shape"
   ]
  },
  {
   "cell_type": "code",
   "execution_count": 4,
   "metadata": {},
   "outputs": [
    {
     "data": {
      "text/plain": [
       "Team 1                object\n",
       "Team 2                object\n",
       "Winner                object\n",
       "Margin                object\n",
       "Ground                object\n",
       "Match Date    datetime64[ns]\n",
       "Scorecard             object\n",
       "dtype: object"
      ]
     },
     "execution_count": 4,
     "metadata": {},
     "output_type": "execute_result"
    }
   ],
   "source": [
    "raw.dtypes"
   ]
  },
  {
   "cell_type": "code",
   "execution_count": 5,
   "metadata": {},
   "outputs": [],
   "source": [
    "#Convert dtypes into strings\n",
    "col_to_edit = ['Team 1','Team 2','Winner','Margin','Ground']\n",
    "for col in col_to_edit:\n",
    "    raw[col] = raw[col].astype('str')"
   ]
  },
  {
   "cell_type": "markdown",
   "metadata": {},
   "source": [
    "The dataset has 7 columns, namely `Team 1`, `Team 2`, `Winner`, `Margin`, `Ground`, `Match Date`, and `Scorecard`. The first three column indicated which countries were playing and who won. Fourth column can be broken into column `win_by` and `win_margin`. The sixth column can be transformed into `Year`, `Month`, and `Day`. Last column `Scorecard` can be simplified into only number format."
   ]
  },
  {
   "cell_type": "markdown",
   "metadata": {},
   "source": [
    "1. Cleaning `Margin` column"
   ]
  },
  {
   "cell_type": "code",
   "execution_count": 6,
   "metadata": {},
   "outputs": [
    {
     "data": {
      "text/html": [
       "<div>\n",
       "<style scoped>\n",
       "    .dataframe tbody tr th:only-of-type {\n",
       "        vertical-align: middle;\n",
       "    }\n",
       "\n",
       "    .dataframe tbody tr th {\n",
       "        vertical-align: top;\n",
       "    }\n",
       "\n",
       "    .dataframe thead th {\n",
       "        text-align: right;\n",
       "    }\n",
       "</style>\n",
       "<table border=\"1\" class=\"dataframe\">\n",
       "  <thead>\n",
       "    <tr style=\"text-align: right;\">\n",
       "      <th></th>\n",
       "      <th>Team 1</th>\n",
       "      <th>Team 2</th>\n",
       "      <th>Winner</th>\n",
       "      <th>Margin</th>\n",
       "      <th>Ground</th>\n",
       "      <th>Match Date</th>\n",
       "      <th>Scorecard</th>\n",
       "      <th>win_by</th>\n",
       "      <th>win_margin</th>\n",
       "    </tr>\n",
       "  </thead>\n",
       "  <tbody>\n",
       "    <tr>\n",
       "      <th>0</th>\n",
       "      <td>New Zealand</td>\n",
       "      <td>Pakistan</td>\n",
       "      <td>New Zealand</td>\n",
       "      <td>61 runs</td>\n",
       "      <td>Wellington</td>\n",
       "      <td>2018-01-06</td>\n",
       "      <td>ODI # 3946</td>\n",
       "      <td>runs</td>\n",
       "      <td>61</td>\n",
       "    </tr>\n",
       "    <tr>\n",
       "      <th>1</th>\n",
       "      <td>New Zealand</td>\n",
       "      <td>Pakistan</td>\n",
       "      <td>New Zealand</td>\n",
       "      <td>8 wickets</td>\n",
       "      <td>Nelson</td>\n",
       "      <td>2018-01-09</td>\n",
       "      <td>ODI # 3947</td>\n",
       "      <td>wickets</td>\n",
       "      <td>8</td>\n",
       "    </tr>\n",
       "    <tr>\n",
       "      <th>2</th>\n",
       "      <td>U.A.E.</td>\n",
       "      <td>Ireland</td>\n",
       "      <td>Ireland</td>\n",
       "      <td>4 wickets</td>\n",
       "      <td>ICCA Dubai</td>\n",
       "      <td>2018-01-11</td>\n",
       "      <td>ODI # 3948</td>\n",
       "      <td>wickets</td>\n",
       "      <td>4</td>\n",
       "    </tr>\n",
       "    <tr>\n",
       "      <th>3</th>\n",
       "      <td>New Zealand</td>\n",
       "      <td>Pakistan</td>\n",
       "      <td>New Zealand</td>\n",
       "      <td>183 runs</td>\n",
       "      <td>Dunedin</td>\n",
       "      <td>2018-01-13</td>\n",
       "      <td>ODI # 3949</td>\n",
       "      <td>runs</td>\n",
       "      <td>183</td>\n",
       "    </tr>\n",
       "    <tr>\n",
       "      <th>4</th>\n",
       "      <td>U.A.E.</td>\n",
       "      <td>Ireland</td>\n",
       "      <td>Ireland</td>\n",
       "      <td>67 runs</td>\n",
       "      <td>ICCA Dubai</td>\n",
       "      <td>2018-01-13</td>\n",
       "      <td>ODI # 3950</td>\n",
       "      <td>runs</td>\n",
       "      <td>67</td>\n",
       "    </tr>\n",
       "  </tbody>\n",
       "</table>\n",
       "</div>"
      ],
      "text/plain": [
       "        Team 1    Team 2       Winner     Margin      Ground Match Date  \\\n",
       "0  New Zealand  Pakistan  New Zealand    61 runs  Wellington 2018-01-06   \n",
       "1  New Zealand  Pakistan  New Zealand  8 wickets      Nelson 2018-01-09   \n",
       "2       U.A.E.   Ireland      Ireland  4 wickets  ICCA Dubai 2018-01-11   \n",
       "3  New Zealand  Pakistan  New Zealand   183 runs     Dunedin 2018-01-13   \n",
       "4       U.A.E.   Ireland      Ireland    67 runs  ICCA Dubai 2018-01-13   \n",
       "\n",
       "    Scorecard   win_by  win_margin  \n",
       "0  ODI # 3946     runs          61  \n",
       "1  ODI # 3947  wickets           8  \n",
       "2  ODI # 3948  wickets           4  \n",
       "3  ODI # 3949     runs         183  \n",
       "4  ODI # 3950     runs          67  "
      ]
     },
     "execution_count": 6,
     "metadata": {},
     "output_type": "execute_result"
    }
   ],
   "source": [
    "raw[\"win_by\"] = raw[\"Margin\"].apply(lambda x: x.split()[-1])\n",
    "raw[\"win_margin\"] = raw[\"Margin\"].apply(lambda x: x.split()[0])\n",
    "\n",
    "#As there are some matches that does not have any result, this win_by and win_margin will be NA\n",
    "raw[\"win_margin\"] = raw[\"win_margin\"].apply(lambda x: \"0\" if x == \"nan\" else x)\n",
    "raw['win_margin'] = raw['win_margin'].astype('int16')\n",
    "\n",
    "raw.head()"
   ]
  },
  {
   "cell_type": "markdown",
   "metadata": {},
   "source": [
    "2. Cleaning `Match Date`"
   ]
  },
  {
   "cell_type": "code",
   "execution_count": 7,
   "metadata": {},
   "outputs": [
    {
     "data": {
      "text/html": [
       "<div>\n",
       "<style scoped>\n",
       "    .dataframe tbody tr th:only-of-type {\n",
       "        vertical-align: middle;\n",
       "    }\n",
       "\n",
       "    .dataframe tbody tr th {\n",
       "        vertical-align: top;\n",
       "    }\n",
       "\n",
       "    .dataframe thead th {\n",
       "        text-align: right;\n",
       "    }\n",
       "</style>\n",
       "<table border=\"1\" class=\"dataframe\">\n",
       "  <thead>\n",
       "    <tr style=\"text-align: right;\">\n",
       "      <th></th>\n",
       "      <th>Team 1</th>\n",
       "      <th>Team 2</th>\n",
       "      <th>Winner</th>\n",
       "      <th>Margin</th>\n",
       "      <th>Ground</th>\n",
       "      <th>Match Date</th>\n",
       "      <th>Scorecard</th>\n",
       "      <th>win_by</th>\n",
       "      <th>win_margin</th>\n",
       "      <th>year</th>\n",
       "      <th>month</th>\n",
       "      <th>day</th>\n",
       "    </tr>\n",
       "  </thead>\n",
       "  <tbody>\n",
       "    <tr>\n",
       "      <th>0</th>\n",
       "      <td>New Zealand</td>\n",
       "      <td>Pakistan</td>\n",
       "      <td>New Zealand</td>\n",
       "      <td>61 runs</td>\n",
       "      <td>Wellington</td>\n",
       "      <td>2018-01-06</td>\n",
       "      <td>ODI # 3946</td>\n",
       "      <td>runs</td>\n",
       "      <td>61</td>\n",
       "      <td>2018</td>\n",
       "      <td>1</td>\n",
       "      <td>6</td>\n",
       "    </tr>\n",
       "    <tr>\n",
       "      <th>1</th>\n",
       "      <td>New Zealand</td>\n",
       "      <td>Pakistan</td>\n",
       "      <td>New Zealand</td>\n",
       "      <td>8 wickets</td>\n",
       "      <td>Nelson</td>\n",
       "      <td>2018-01-09</td>\n",
       "      <td>ODI # 3947</td>\n",
       "      <td>wickets</td>\n",
       "      <td>8</td>\n",
       "      <td>2018</td>\n",
       "      <td>1</td>\n",
       "      <td>9</td>\n",
       "    </tr>\n",
       "    <tr>\n",
       "      <th>2</th>\n",
       "      <td>U.A.E.</td>\n",
       "      <td>Ireland</td>\n",
       "      <td>Ireland</td>\n",
       "      <td>4 wickets</td>\n",
       "      <td>ICCA Dubai</td>\n",
       "      <td>2018-01-11</td>\n",
       "      <td>ODI # 3948</td>\n",
       "      <td>wickets</td>\n",
       "      <td>4</td>\n",
       "      <td>2018</td>\n",
       "      <td>1</td>\n",
       "      <td>11</td>\n",
       "    </tr>\n",
       "    <tr>\n",
       "      <th>3</th>\n",
       "      <td>New Zealand</td>\n",
       "      <td>Pakistan</td>\n",
       "      <td>New Zealand</td>\n",
       "      <td>183 runs</td>\n",
       "      <td>Dunedin</td>\n",
       "      <td>2018-01-13</td>\n",
       "      <td>ODI # 3949</td>\n",
       "      <td>runs</td>\n",
       "      <td>183</td>\n",
       "      <td>2018</td>\n",
       "      <td>1</td>\n",
       "      <td>13</td>\n",
       "    </tr>\n",
       "    <tr>\n",
       "      <th>4</th>\n",
       "      <td>U.A.E.</td>\n",
       "      <td>Ireland</td>\n",
       "      <td>Ireland</td>\n",
       "      <td>67 runs</td>\n",
       "      <td>ICCA Dubai</td>\n",
       "      <td>2018-01-13</td>\n",
       "      <td>ODI # 3950</td>\n",
       "      <td>runs</td>\n",
       "      <td>67</td>\n",
       "      <td>2018</td>\n",
       "      <td>1</td>\n",
       "      <td>13</td>\n",
       "    </tr>\n",
       "  </tbody>\n",
       "</table>\n",
       "</div>"
      ],
      "text/plain": [
       "        Team 1    Team 2       Winner     Margin      Ground Match Date  \\\n",
       "0  New Zealand  Pakistan  New Zealand    61 runs  Wellington 2018-01-06   \n",
       "1  New Zealand  Pakistan  New Zealand  8 wickets      Nelson 2018-01-09   \n",
       "2       U.A.E.   Ireland      Ireland  4 wickets  ICCA Dubai 2018-01-11   \n",
       "3  New Zealand  Pakistan  New Zealand   183 runs     Dunedin 2018-01-13   \n",
       "4       U.A.E.   Ireland      Ireland    67 runs  ICCA Dubai 2018-01-13   \n",
       "\n",
       "    Scorecard   win_by  win_margin  year  month  day  \n",
       "0  ODI # 3946     runs          61  2018      1    6  \n",
       "1  ODI # 3947  wickets           8  2018      1    9  \n",
       "2  ODI # 3948  wickets           4  2018      1   11  \n",
       "3  ODI # 3949     runs         183  2018      1   13  \n",
       "4  ODI # 3950     runs          67  2018      1   13  "
      ]
     },
     "execution_count": 7,
     "metadata": {},
     "output_type": "execute_result"
    }
   ],
   "source": [
    "from datetime import datetime as dt\n",
    "\n",
    "raw[\"year\"] = raw[\"Match Date\"].dt.year\n",
    "raw[\"month\"] = raw[\"Match Date\"].dt.month\n",
    "raw[\"day\"] = raw[\"Match Date\"].dt.day\n",
    "\n",
    "raw.head()"
   ]
  },
  {
   "cell_type": "markdown",
   "metadata": {},
   "source": [
    "3. Cleaning `Scorecard` and changing dtype into int"
   ]
  },
  {
   "cell_type": "code",
   "execution_count": 8,
   "metadata": {},
   "outputs": [
    {
     "data": {
      "text/html": [
       "<div>\n",
       "<style scoped>\n",
       "    .dataframe tbody tr th:only-of-type {\n",
       "        vertical-align: middle;\n",
       "    }\n",
       "\n",
       "    .dataframe tbody tr th {\n",
       "        vertical-align: top;\n",
       "    }\n",
       "\n",
       "    .dataframe thead th {\n",
       "        text-align: right;\n",
       "    }\n",
       "</style>\n",
       "<table border=\"1\" class=\"dataframe\">\n",
       "  <thead>\n",
       "    <tr style=\"text-align: right;\">\n",
       "      <th></th>\n",
       "      <th>Team 1</th>\n",
       "      <th>Team 2</th>\n",
       "      <th>Winner</th>\n",
       "      <th>Margin</th>\n",
       "      <th>Ground</th>\n",
       "      <th>Match Date</th>\n",
       "      <th>Scorecard</th>\n",
       "      <th>win_by</th>\n",
       "      <th>win_margin</th>\n",
       "      <th>year</th>\n",
       "      <th>month</th>\n",
       "      <th>day</th>\n",
       "      <th>score_id</th>\n",
       "    </tr>\n",
       "  </thead>\n",
       "  <tbody>\n",
       "    <tr>\n",
       "      <th>0</th>\n",
       "      <td>New Zealand</td>\n",
       "      <td>Pakistan</td>\n",
       "      <td>New Zealand</td>\n",
       "      <td>61 runs</td>\n",
       "      <td>Wellington</td>\n",
       "      <td>2018-01-06</td>\n",
       "      <td>ODI # 3946</td>\n",
       "      <td>runs</td>\n",
       "      <td>61</td>\n",
       "      <td>2018</td>\n",
       "      <td>1</td>\n",
       "      <td>6</td>\n",
       "      <td>3946</td>\n",
       "    </tr>\n",
       "    <tr>\n",
       "      <th>1</th>\n",
       "      <td>New Zealand</td>\n",
       "      <td>Pakistan</td>\n",
       "      <td>New Zealand</td>\n",
       "      <td>8 wickets</td>\n",
       "      <td>Nelson</td>\n",
       "      <td>2018-01-09</td>\n",
       "      <td>ODI # 3947</td>\n",
       "      <td>wickets</td>\n",
       "      <td>8</td>\n",
       "      <td>2018</td>\n",
       "      <td>1</td>\n",
       "      <td>9</td>\n",
       "      <td>3947</td>\n",
       "    </tr>\n",
       "    <tr>\n",
       "      <th>2</th>\n",
       "      <td>U.A.E.</td>\n",
       "      <td>Ireland</td>\n",
       "      <td>Ireland</td>\n",
       "      <td>4 wickets</td>\n",
       "      <td>ICCA Dubai</td>\n",
       "      <td>2018-01-11</td>\n",
       "      <td>ODI # 3948</td>\n",
       "      <td>wickets</td>\n",
       "      <td>4</td>\n",
       "      <td>2018</td>\n",
       "      <td>1</td>\n",
       "      <td>11</td>\n",
       "      <td>3948</td>\n",
       "    </tr>\n",
       "    <tr>\n",
       "      <th>3</th>\n",
       "      <td>New Zealand</td>\n",
       "      <td>Pakistan</td>\n",
       "      <td>New Zealand</td>\n",
       "      <td>183 runs</td>\n",
       "      <td>Dunedin</td>\n",
       "      <td>2018-01-13</td>\n",
       "      <td>ODI # 3949</td>\n",
       "      <td>runs</td>\n",
       "      <td>183</td>\n",
       "      <td>2018</td>\n",
       "      <td>1</td>\n",
       "      <td>13</td>\n",
       "      <td>3949</td>\n",
       "    </tr>\n",
       "    <tr>\n",
       "      <th>4</th>\n",
       "      <td>U.A.E.</td>\n",
       "      <td>Ireland</td>\n",
       "      <td>Ireland</td>\n",
       "      <td>67 runs</td>\n",
       "      <td>ICCA Dubai</td>\n",
       "      <td>2018-01-13</td>\n",
       "      <td>ODI # 3950</td>\n",
       "      <td>runs</td>\n",
       "      <td>67</td>\n",
       "      <td>2018</td>\n",
       "      <td>1</td>\n",
       "      <td>13</td>\n",
       "      <td>3950</td>\n",
       "    </tr>\n",
       "  </tbody>\n",
       "</table>\n",
       "</div>"
      ],
      "text/plain": [
       "        Team 1    Team 2       Winner     Margin      Ground Match Date  \\\n",
       "0  New Zealand  Pakistan  New Zealand    61 runs  Wellington 2018-01-06   \n",
       "1  New Zealand  Pakistan  New Zealand  8 wickets      Nelson 2018-01-09   \n",
       "2       U.A.E.   Ireland      Ireland  4 wickets  ICCA Dubai 2018-01-11   \n",
       "3  New Zealand  Pakistan  New Zealand   183 runs     Dunedin 2018-01-13   \n",
       "4       U.A.E.   Ireland      Ireland    67 runs  ICCA Dubai 2018-01-13   \n",
       "\n",
       "    Scorecard   win_by  win_margin  year  month  day  score_id  \n",
       "0  ODI # 3946     runs          61  2018      1    6      3946  \n",
       "1  ODI # 3947  wickets           8  2018      1    9      3947  \n",
       "2  ODI # 3948  wickets           4  2018      1   11      3948  \n",
       "3  ODI # 3949     runs         183  2018      1   13      3949  \n",
       "4  ODI # 3950     runs          67  2018      1   13      3950  "
      ]
     },
     "execution_count": 8,
     "metadata": {},
     "output_type": "execute_result"
    }
   ],
   "source": [
    "raw['score_id'] = raw[\"Scorecard\"].apply(lambda x: x.split()[-1])\n",
    "raw['score_id'] = raw['score_id'].astype('int16')\n",
    "\n",
    "raw.head()"
   ]
  },
  {
   "cell_type": "markdown",
   "metadata": {},
   "source": [
    "4. Assuming that team name data and ground name data don't have any mispellings, we drop the irrelevant columns."
   ]
  },
  {
   "cell_type": "code",
   "execution_count": 9,
   "metadata": {},
   "outputs": [
    {
     "data": {
      "text/html": [
       "<div>\n",
       "<style scoped>\n",
       "    .dataframe tbody tr th:only-of-type {\n",
       "        vertical-align: middle;\n",
       "    }\n",
       "\n",
       "    .dataframe tbody tr th {\n",
       "        vertical-align: top;\n",
       "    }\n",
       "\n",
       "    .dataframe thead th {\n",
       "        text-align: right;\n",
       "    }\n",
       "</style>\n",
       "<table border=\"1\" class=\"dataframe\">\n",
       "  <thead>\n",
       "    <tr style=\"text-align: right;\">\n",
       "      <th></th>\n",
       "      <th>Team 1</th>\n",
       "      <th>Team 2</th>\n",
       "      <th>Winner</th>\n",
       "      <th>Ground</th>\n",
       "      <th>win_by</th>\n",
       "      <th>win_margin</th>\n",
       "      <th>year</th>\n",
       "      <th>month</th>\n",
       "      <th>day</th>\n",
       "      <th>score_id</th>\n",
       "    </tr>\n",
       "  </thead>\n",
       "  <tbody>\n",
       "    <tr>\n",
       "      <th>0</th>\n",
       "      <td>New Zealand</td>\n",
       "      <td>Pakistan</td>\n",
       "      <td>New Zealand</td>\n",
       "      <td>Wellington</td>\n",
       "      <td>runs</td>\n",
       "      <td>61</td>\n",
       "      <td>2018</td>\n",
       "      <td>1</td>\n",
       "      <td>6</td>\n",
       "      <td>3946</td>\n",
       "    </tr>\n",
       "    <tr>\n",
       "      <th>1</th>\n",
       "      <td>New Zealand</td>\n",
       "      <td>Pakistan</td>\n",
       "      <td>New Zealand</td>\n",
       "      <td>Nelson</td>\n",
       "      <td>wickets</td>\n",
       "      <td>8</td>\n",
       "      <td>2018</td>\n",
       "      <td>1</td>\n",
       "      <td>9</td>\n",
       "      <td>3947</td>\n",
       "    </tr>\n",
       "    <tr>\n",
       "      <th>2</th>\n",
       "      <td>U.A.E.</td>\n",
       "      <td>Ireland</td>\n",
       "      <td>Ireland</td>\n",
       "      <td>ICCA Dubai</td>\n",
       "      <td>wickets</td>\n",
       "      <td>4</td>\n",
       "      <td>2018</td>\n",
       "      <td>1</td>\n",
       "      <td>11</td>\n",
       "      <td>3948</td>\n",
       "    </tr>\n",
       "    <tr>\n",
       "      <th>3</th>\n",
       "      <td>New Zealand</td>\n",
       "      <td>Pakistan</td>\n",
       "      <td>New Zealand</td>\n",
       "      <td>Dunedin</td>\n",
       "      <td>runs</td>\n",
       "      <td>183</td>\n",
       "      <td>2018</td>\n",
       "      <td>1</td>\n",
       "      <td>13</td>\n",
       "      <td>3949</td>\n",
       "    </tr>\n",
       "    <tr>\n",
       "      <th>4</th>\n",
       "      <td>U.A.E.</td>\n",
       "      <td>Ireland</td>\n",
       "      <td>Ireland</td>\n",
       "      <td>ICCA Dubai</td>\n",
       "      <td>runs</td>\n",
       "      <td>67</td>\n",
       "      <td>2018</td>\n",
       "      <td>1</td>\n",
       "      <td>13</td>\n",
       "      <td>3950</td>\n",
       "    </tr>\n",
       "  </tbody>\n",
       "</table>\n",
       "</div>"
      ],
      "text/plain": [
       "        Team 1    Team 2       Winner      Ground   win_by  win_margin  year  \\\n",
       "0  New Zealand  Pakistan  New Zealand  Wellington     runs          61  2018   \n",
       "1  New Zealand  Pakistan  New Zealand      Nelson  wickets           8  2018   \n",
       "2       U.A.E.   Ireland      Ireland  ICCA Dubai  wickets           4  2018   \n",
       "3  New Zealand  Pakistan  New Zealand     Dunedin     runs         183  2018   \n",
       "4       U.A.E.   Ireland      Ireland  ICCA Dubai     runs          67  2018   \n",
       "\n",
       "   month  day  score_id  \n",
       "0      1    6      3946  \n",
       "1      1    9      3947  \n",
       "2      1   11      3948  \n",
       "3      1   13      3949  \n",
       "4      1   13      3950  "
      ]
     },
     "execution_count": 9,
     "metadata": {},
     "output_type": "execute_result"
    }
   ],
   "source": [
    "raw.drop(['Margin','Match Date','Scorecard'],axis=1,inplace=True)\n",
    "\n",
    "raw.head()"
   ]
  },
  {
   "cell_type": "code",
   "execution_count": 10,
   "metadata": {},
   "outputs": [
    {
     "data": {
      "text/html": [
       "<div>\n",
       "<style scoped>\n",
       "    .dataframe tbody tr th:only-of-type {\n",
       "        vertical-align: middle;\n",
       "    }\n",
       "\n",
       "    .dataframe tbody tr th {\n",
       "        vertical-align: top;\n",
       "    }\n",
       "\n",
       "    .dataframe thead th {\n",
       "        text-align: right;\n",
       "    }\n",
       "</style>\n",
       "<table border=\"1\" class=\"dataframe\">\n",
       "  <thead>\n",
       "    <tr style=\"text-align: right;\">\n",
       "      <th></th>\n",
       "      <th>Team 1</th>\n",
       "      <th>Team 2</th>\n",
       "      <th>Winner</th>\n",
       "      <th>Ground</th>\n",
       "      <th>win_by</th>\n",
       "      <th>win_margin</th>\n",
       "      <th>year</th>\n",
       "      <th>month</th>\n",
       "      <th>day</th>\n",
       "      <th>score_id</th>\n",
       "    </tr>\n",
       "  </thead>\n",
       "  <tbody>\n",
       "    <tr>\n",
       "      <th>123</th>\n",
       "      <td>Australia</td>\n",
       "      <td>South Africa</td>\n",
       "      <td>South Africa</td>\n",
       "      <td>Hobart</td>\n",
       "      <td>runs</td>\n",
       "      <td>40</td>\n",
       "      <td>2018</td>\n",
       "      <td>11</td>\n",
       "      <td>11</td>\n",
       "      <td>4069</td>\n",
       "    </tr>\n",
       "    <tr>\n",
       "      <th>124</th>\n",
       "      <td>New Zealand</td>\n",
       "      <td>Pakistan</td>\n",
       "      <td>no result</td>\n",
       "      <td>Dubai (DSC)</td>\n",
       "      <td>nan</td>\n",
       "      <td>0</td>\n",
       "      <td>2018</td>\n",
       "      <td>11</td>\n",
       "      <td>11</td>\n",
       "      <td>4070</td>\n",
       "    </tr>\n",
       "    <tr>\n",
       "      <th>125</th>\n",
       "      <td>Bangladesh</td>\n",
       "      <td>West Indies</td>\n",
       "      <td>Bangladesh</td>\n",
       "      <td>Dhaka</td>\n",
       "      <td>wickets</td>\n",
       "      <td>5</td>\n",
       "      <td>2018</td>\n",
       "      <td>12</td>\n",
       "      <td>9</td>\n",
       "      <td>4071</td>\n",
       "    </tr>\n",
       "    <tr>\n",
       "      <th>126</th>\n",
       "      <td>Bangladesh</td>\n",
       "      <td>West Indies</td>\n",
       "      <td>West Indies</td>\n",
       "      <td>Dhaka</td>\n",
       "      <td>wickets</td>\n",
       "      <td>4</td>\n",
       "      <td>2018</td>\n",
       "      <td>12</td>\n",
       "      <td>11</td>\n",
       "      <td>4072</td>\n",
       "    </tr>\n",
       "    <tr>\n",
       "      <th>127</th>\n",
       "      <td>Bangladesh</td>\n",
       "      <td>West Indies</td>\n",
       "      <td>Bangladesh</td>\n",
       "      <td>Sylhet</td>\n",
       "      <td>wickets</td>\n",
       "      <td>8</td>\n",
       "      <td>2018</td>\n",
       "      <td>12</td>\n",
       "      <td>14</td>\n",
       "      <td>4073</td>\n",
       "    </tr>\n",
       "  </tbody>\n",
       "</table>\n",
       "</div>"
      ],
      "text/plain": [
       "          Team 1        Team 2        Winner       Ground   win_by  \\\n",
       "123    Australia  South Africa  South Africa       Hobart     runs   \n",
       "124  New Zealand      Pakistan     no result  Dubai (DSC)      nan   \n",
       "125   Bangladesh   West Indies    Bangladesh        Dhaka  wickets   \n",
       "126   Bangladesh   West Indies   West Indies        Dhaka  wickets   \n",
       "127   Bangladesh   West Indies    Bangladesh       Sylhet  wickets   \n",
       "\n",
       "     win_margin  year  month  day  score_id  \n",
       "123          40  2018     11   11      4069  \n",
       "124           0  2018     11   11      4070  \n",
       "125           5  2018     12    9      4071  \n",
       "126           4  2018     12   11      4072  \n",
       "127           8  2018     12   14      4073  "
      ]
     },
     "execution_count": 10,
     "metadata": {},
     "output_type": "execute_result"
    }
   ],
   "source": [
    "raw.tail()"
   ]
  },
  {
   "cell_type": "markdown",
   "metadata": {},
   "source": [
    "Note that the dates are in an ascending order. THEN there is also matches where no result was obtained. **We then check and count all possible unique winner results.**"
   ]
  },
  {
   "cell_type": "code",
   "execution_count": 11,
   "metadata": {},
   "outputs": [
    {
     "data": {
      "text/plain": [
       "England         17\n",
       "India           14\n",
       "Bangladesh      13\n",
       "Afghanistan     12\n",
       "South Africa     9\n",
       "Ireland          8\n",
       "West Indies      8\n",
       "New Zealand      8\n",
       "Pakistan         8\n",
       "Sri Lanka        6\n",
       "Zimbabwe         5\n",
       "Scotland         5\n",
       "U.A.E.           4\n",
       "tied             3\n",
       "Australia        2\n",
       "no result        2\n",
       "Netherlands      1\n",
       "P.N.G.           1\n",
       "Hong Kong        1\n",
       "Nepal            1\n",
       "Name: Winner, dtype: int64"
      ]
     },
     "execution_count": 11,
     "metadata": {},
     "output_type": "execute_result"
    }
   ],
   "source": [
    "raw.Winner.value_counts()"
   ]
  },
  {
   "cell_type": "markdown",
   "metadata": {},
   "source": [
    "It seems that there are **tied** and **no result** data. We need to check whether they are the same in meaning."
   ]
  },
  {
   "cell_type": "code",
   "execution_count": 12,
   "metadata": {},
   "outputs": [
    {
     "data": {
      "text/html": [
       "<div>\n",
       "<style scoped>\n",
       "    .dataframe tbody tr th:only-of-type {\n",
       "        vertical-align: middle;\n",
       "    }\n",
       "\n",
       "    .dataframe tbody tr th {\n",
       "        vertical-align: top;\n",
       "    }\n",
       "\n",
       "    .dataframe thead th {\n",
       "        text-align: right;\n",
       "    }\n",
       "</style>\n",
       "<table border=\"1\" class=\"dataframe\">\n",
       "  <thead>\n",
       "    <tr style=\"text-align: right;\">\n",
       "      <th></th>\n",
       "      <th>Team 1</th>\n",
       "      <th>Team 2</th>\n",
       "      <th>Winner</th>\n",
       "      <th>Ground</th>\n",
       "      <th>win_by</th>\n",
       "      <th>win_margin</th>\n",
       "      <th>year</th>\n",
       "      <th>month</th>\n",
       "      <th>day</th>\n",
       "      <th>score_id</th>\n",
       "    </tr>\n",
       "  </thead>\n",
       "  <tbody>\n",
       "    <tr>\n",
       "      <th>50</th>\n",
       "      <td>Zimbabwe</td>\n",
       "      <td>Scotland</td>\n",
       "      <td>tied</td>\n",
       "      <td>Bulawayo</td>\n",
       "      <td>nan</td>\n",
       "      <td>0</td>\n",
       "      <td>2018</td>\n",
       "      <td>3</td>\n",
       "      <td>12</td>\n",
       "      <td>3996</td>\n",
       "    </tr>\n",
       "    <tr>\n",
       "      <th>100</th>\n",
       "      <td>Afghanistan</td>\n",
       "      <td>India</td>\n",
       "      <td>tied</td>\n",
       "      <td>Dubai (DSC)</td>\n",
       "      <td>nan</td>\n",
       "      <td>0</td>\n",
       "      <td>2018</td>\n",
       "      <td>9</td>\n",
       "      <td>25</td>\n",
       "      <td>4046</td>\n",
       "    </tr>\n",
       "    <tr>\n",
       "      <th>106</th>\n",
       "      <td>Sri Lanka</td>\n",
       "      <td>England</td>\n",
       "      <td>no result</td>\n",
       "      <td>Dambulla</td>\n",
       "      <td>nan</td>\n",
       "      <td>0</td>\n",
       "      <td>2018</td>\n",
       "      <td>10</td>\n",
       "      <td>10</td>\n",
       "      <td>4052</td>\n",
       "    </tr>\n",
       "    <tr>\n",
       "      <th>113</th>\n",
       "      <td>India</td>\n",
       "      <td>West Indies</td>\n",
       "      <td>tied</td>\n",
       "      <td>Visakhapatnam</td>\n",
       "      <td>nan</td>\n",
       "      <td>0</td>\n",
       "      <td>2018</td>\n",
       "      <td>10</td>\n",
       "      <td>24</td>\n",
       "      <td>4059</td>\n",
       "    </tr>\n",
       "    <tr>\n",
       "      <th>124</th>\n",
       "      <td>New Zealand</td>\n",
       "      <td>Pakistan</td>\n",
       "      <td>no result</td>\n",
       "      <td>Dubai (DSC)</td>\n",
       "      <td>nan</td>\n",
       "      <td>0</td>\n",
       "      <td>2018</td>\n",
       "      <td>11</td>\n",
       "      <td>11</td>\n",
       "      <td>4070</td>\n",
       "    </tr>\n",
       "  </tbody>\n",
       "</table>\n",
       "</div>"
      ],
      "text/plain": [
       "          Team 1       Team 2     Winner         Ground win_by  win_margin  \\\n",
       "50      Zimbabwe     Scotland       tied       Bulawayo    nan           0   \n",
       "100  Afghanistan        India       tied    Dubai (DSC)    nan           0   \n",
       "106    Sri Lanka      England  no result       Dambulla    nan           0   \n",
       "113        India  West Indies       tied  Visakhapatnam    nan           0   \n",
       "124  New Zealand     Pakistan  no result    Dubai (DSC)    nan           0   \n",
       "\n",
       "     year  month  day  score_id  \n",
       "50   2018      3   12      3996  \n",
       "100  2018      9   25      4046  \n",
       "106  2018     10   10      4052  \n",
       "113  2018     10   24      4059  \n",
       "124  2018     11   11      4070  "
      ]
     },
     "execution_count": 12,
     "metadata": {},
     "output_type": "execute_result"
    }
   ],
   "source": [
    "raw[raw.Winner.isin(['tied','no result'])]"
   ]
  },
  {
   "cell_type": "markdown",
   "metadata": {},
   "source": [
    "**Tied** and **no result** might indicate two different occasions, BUT similarly they don't have margin data."
   ]
  },
  {
   "cell_type": "code",
   "execution_count": 13,
   "metadata": {},
   "outputs": [
    {
     "data": {
      "text/html": [
       "<div>\n",
       "<style scoped>\n",
       "    .dataframe tbody tr th:only-of-type {\n",
       "        vertical-align: middle;\n",
       "    }\n",
       "\n",
       "    .dataframe tbody tr th {\n",
       "        vertical-align: top;\n",
       "    }\n",
       "\n",
       "    .dataframe thead th {\n",
       "        text-align: right;\n",
       "    }\n",
       "</style>\n",
       "<table border=\"1\" class=\"dataframe\">\n",
       "  <thead>\n",
       "    <tr style=\"text-align: right;\">\n",
       "      <th></th>\n",
       "      <th>Team 1</th>\n",
       "      <th>Team 2</th>\n",
       "      <th>Winner</th>\n",
       "      <th>Ground</th>\n",
       "      <th>win_by</th>\n",
       "      <th>win_margin</th>\n",
       "      <th>year</th>\n",
       "      <th>month</th>\n",
       "      <th>day</th>\n",
       "      <th>score_id</th>\n",
       "    </tr>\n",
       "  </thead>\n",
       "  <tbody>\n",
       "    <tr>\n",
       "      <th>0</th>\n",
       "      <td>New Zealand</td>\n",
       "      <td>Pakistan</td>\n",
       "      <td>New Zealand</td>\n",
       "      <td>Wellington</td>\n",
       "      <td>runs</td>\n",
       "      <td>61</td>\n",
       "      <td>2018</td>\n",
       "      <td>1</td>\n",
       "      <td>6</td>\n",
       "      <td>3946</td>\n",
       "    </tr>\n",
       "    <tr>\n",
       "      <th>1</th>\n",
       "      <td>New Zealand</td>\n",
       "      <td>Pakistan</td>\n",
       "      <td>New Zealand</td>\n",
       "      <td>Nelson</td>\n",
       "      <td>wickets</td>\n",
       "      <td>8</td>\n",
       "      <td>2018</td>\n",
       "      <td>1</td>\n",
       "      <td>9</td>\n",
       "      <td>3947</td>\n",
       "    </tr>\n",
       "    <tr>\n",
       "      <th>2</th>\n",
       "      <td>U.A.E.</td>\n",
       "      <td>Ireland</td>\n",
       "      <td>Ireland</td>\n",
       "      <td>ICCA Dubai</td>\n",
       "      <td>wickets</td>\n",
       "      <td>4</td>\n",
       "      <td>2018</td>\n",
       "      <td>1</td>\n",
       "      <td>11</td>\n",
       "      <td>3948</td>\n",
       "    </tr>\n",
       "    <tr>\n",
       "      <th>3</th>\n",
       "      <td>New Zealand</td>\n",
       "      <td>Pakistan</td>\n",
       "      <td>New Zealand</td>\n",
       "      <td>Dunedin</td>\n",
       "      <td>runs</td>\n",
       "      <td>183</td>\n",
       "      <td>2018</td>\n",
       "      <td>1</td>\n",
       "      <td>13</td>\n",
       "      <td>3949</td>\n",
       "    </tr>\n",
       "    <tr>\n",
       "      <th>4</th>\n",
       "      <td>U.A.E.</td>\n",
       "      <td>Ireland</td>\n",
       "      <td>Ireland</td>\n",
       "      <td>ICCA Dubai</td>\n",
       "      <td>runs</td>\n",
       "      <td>67</td>\n",
       "      <td>2018</td>\n",
       "      <td>1</td>\n",
       "      <td>13</td>\n",
       "      <td>3950</td>\n",
       "    </tr>\n",
       "  </tbody>\n",
       "</table>\n",
       "</div>"
      ],
      "text/plain": [
       "        Team 1    Team 2       Winner      Ground   win_by  win_margin  year  \\\n",
       "0  New Zealand  Pakistan  New Zealand  Wellington     runs          61  2018   \n",
       "1  New Zealand  Pakistan  New Zealand      Nelson  wickets           8  2018   \n",
       "2       U.A.E.   Ireland      Ireland  ICCA Dubai  wickets           4  2018   \n",
       "3  New Zealand  Pakistan  New Zealand     Dunedin     runs         183  2018   \n",
       "4       U.A.E.   Ireland      Ireland  ICCA Dubai     runs          67  2018   \n",
       "\n",
       "   month  day  score_id  \n",
       "0      1    6      3946  \n",
       "1      1    9      3947  \n",
       "2      1   11      3948  \n",
       "3      1   13      3949  \n",
       "4      1   13      3950  "
      ]
     },
     "execution_count": 13,
     "metadata": {},
     "output_type": "execute_result"
    }
   ],
   "source": [
    "#Preparing for Data Analytics Section\n",
    "\n",
    "df = raw.copy()\n",
    "df.head()"
   ]
  },
  {
   "cell_type": "markdown",
   "metadata": {},
   "source": [
    "# B. Data Analytics"
   ]
  },
  {
   "cell_type": "markdown",
   "metadata": {},
   "source": [
    "### 1. Which country played the most ODIs in 2018?\n",
    "We will count values for column `Team 1` and `Team 2`, add them and select the top result. In this case, we will create a dictionary to store the counts for each team. Do note that teams can play first or chasing. We assume `Team 1` is playing first while `Team 2` is chasing. "
   ]
  },
  {
   "cell_type": "code",
   "execution_count": 14,
   "metadata": {},
   "outputs": [
    {
     "data": {
      "text/html": [
       "<div>\n",
       "<style scoped>\n",
       "    .dataframe tbody tr th:only-of-type {\n",
       "        vertical-align: middle;\n",
       "    }\n",
       "\n",
       "    .dataframe tbody tr th {\n",
       "        vertical-align: top;\n",
       "    }\n",
       "\n",
       "    .dataframe thead th {\n",
       "        text-align: right;\n",
       "    }\n",
       "</style>\n",
       "<table border=\"1\" class=\"dataframe\">\n",
       "  <thead>\n",
       "    <tr style=\"text-align: right;\">\n",
       "      <th></th>\n",
       "      <th>country</th>\n",
       "      <th>counts</th>\n",
       "    </tr>\n",
       "  </thead>\n",
       "  <tbody>\n",
       "    <tr>\n",
       "      <th>0</th>\n",
       "      <td>Afghanistan</td>\n",
       "      <td>16</td>\n",
       "    </tr>\n",
       "    <tr>\n",
       "      <th>1</th>\n",
       "      <td>Bangladesh</td>\n",
       "      <td>15</td>\n",
       "    </tr>\n",
       "    <tr>\n",
       "      <th>2</th>\n",
       "      <td>New Zealand</td>\n",
       "      <td>13</td>\n",
       "    </tr>\n",
       "  </tbody>\n",
       "</table>\n",
       "</div>"
      ],
      "text/plain": [
       "       country  counts\n",
       "0  Afghanistan      16\n",
       "1   Bangladesh      15\n",
       "2  New Zealand      13"
      ]
     },
     "execution_count": 14,
     "metadata": {},
     "output_type": "execute_result"
    }
   ],
   "source": [
    "#We try counting value for team 1, converting it into a dataframe in which we need to reset index and edit column name a bit\n",
    "\n",
    "temp_1 = df['Team 1'].value_counts()\n",
    "temp_1 = pd.DataFrame(temp_1)\n",
    "temp_1.reset_index(inplace=True)\n",
    "temp_1.columns = ['country','counts']\n",
    "\n",
    "temp_1[:3]"
   ]
  },
  {
   "cell_type": "code",
   "execution_count": 15,
   "metadata": {},
   "outputs": [
    {
     "data": {
      "text/html": [
       "<div>\n",
       "<style scoped>\n",
       "    .dataframe tbody tr th:only-of-type {\n",
       "        vertical-align: middle;\n",
       "    }\n",
       "\n",
       "    .dataframe tbody tr th {\n",
       "        vertical-align: top;\n",
       "    }\n",
       "\n",
       "    .dataframe thead th {\n",
       "        text-align: right;\n",
       "    }\n",
       "</style>\n",
       "<table border=\"1\" class=\"dataframe\">\n",
       "  <thead>\n",
       "    <tr style=\"text-align: right;\">\n",
       "      <th></th>\n",
       "      <th>country</th>\n",
       "      <th>counts</th>\n",
       "    </tr>\n",
       "  </thead>\n",
       "  <tbody>\n",
       "    <tr>\n",
       "      <th>0</th>\n",
       "      <td>Pakistan</td>\n",
       "      <td>18</td>\n",
       "    </tr>\n",
       "    <tr>\n",
       "      <th>1</th>\n",
       "      <td>England</td>\n",
       "      <td>16</td>\n",
       "    </tr>\n",
       "    <tr>\n",
       "      <th>2</th>\n",
       "      <td>West Indies</td>\n",
       "      <td>15</td>\n",
       "    </tr>\n",
       "  </tbody>\n",
       "</table>\n",
       "</div>"
      ],
      "text/plain": [
       "       country  counts\n",
       "0     Pakistan      18\n",
       "1      England      16\n",
       "2  West Indies      15"
      ]
     },
     "execution_count": 15,
     "metadata": {},
     "output_type": "execute_result"
    }
   ],
   "source": [
    "#We count value for team 2, converting it into a dataframe in which we need to reset index and edit column name a bit\n",
    "\n",
    "temp_2 = df['Team 2'].value_counts()\n",
    "temp_2 = pd.DataFrame(temp_2)\n",
    "temp_2.reset_index(inplace=True)\n",
    "temp_2.columns = ['country','counts']\n",
    "\n",
    "temp_2[:3]"
   ]
  },
  {
   "cell_type": "code",
   "execution_count": 16,
   "metadata": {},
   "outputs": [
    {
     "name": "stdout",
     "output_type": "stream",
     "text": [
      "{'Afghanistan': 20, 'Bangladesh': 20, 'New Zealand': 13, 'Sri Lanka': 17, 'Zimbabwe': 26, 'South Africa': 17, 'Ireland': 13, 'England': 24, 'Australia': 13, 'India': 20, 'U.A.E.': 11, 'Hong Kong': 6, 'West Indies': 18, 'Scotland': 11, 'P.N.G.': 4, 'Netherlands': 2, 'Nepal': 3, 'Pakistan': 18}\n"
     ]
    }
   ],
   "source": [
    "#creating a dictionary to store counts for every country\n",
    "country_count = {}\n",
    "\n",
    "#For Team 1\n",
    "for country, count in zip(list(temp_1.country),list(temp_1.counts)):\n",
    "    country_count[country] = country_count.get(country,0) + count\n",
    "\n",
    "#For Team 2\n",
    "for country, count in zip(list(temp_2.country),list(temp_2.counts)):\n",
    "    country_count[country] = country_count.get(country,0) + count\n",
    "    \n",
    "print(country_count)"
   ]
  },
  {
   "cell_type": "code",
   "execution_count": 17,
   "metadata": {},
   "outputs": [
    {
     "name": "stdout",
     "output_type": "stream",
     "text": [
      "The country that played the most was Zimbabwe with 26 appearance.\n"
     ]
    }
   ],
   "source": [
    "new_list = []\n",
    "for country in country_count:\n",
    "    new_list.append([country,country_count[country]])\n",
    "    \n",
    "temp = pd.DataFrame(new_list, columns=['country','counts'])\n",
    "top_country = temp[\"country\"].iloc[temp.counts.argmax()]\n",
    "top_count = temp[\"counts\"].iloc[temp.counts.argmax()]\n",
    "\n",
    "print(f\"The country that played the most was {top_country} with {top_count} appearance.\")"
   ]
  },
  {
   "cell_type": "markdown",
   "metadata": {},
   "source": [
    "### 2. What are the top 3 countries winning the most ODIs?\n",
    "We are going to count values in the `Winner` column."
   ]
  },
  {
   "cell_type": "code",
   "execution_count": 18,
   "metadata": {},
   "outputs": [
    {
     "data": {
      "text/plain": [
       "England       17\n",
       "India         14\n",
       "Bangladesh    13\n",
       "Name: Winner, dtype: int64"
      ]
     },
     "execution_count": 18,
     "metadata": {},
     "output_type": "execute_result"
    }
   ],
   "source": [
    "df.Winner.value_counts()[:3]"
   ]
  },
  {
   "cell_type": "markdown",
   "metadata": {},
   "source": [
    "### 3. Based on the Ground, Map the country. Take the list from Google.\n",
    "We will need to check the unique `Ground` locations and map them into their respective country."
   ]
  },
  {
   "cell_type": "code",
   "execution_count": 19,
   "metadata": {},
   "outputs": [
    {
     "data": {
      "text/plain": [
       "array(['Wellington', 'Nelson', 'ICCA Dubai', 'Dunedin', 'Melbourne',\n",
       "       'Dhaka', 'Hamilton', 'Brisbane', 'Sydney', 'Adelaide', 'Perth',\n",
       "       'Durban', 'Centurion', 'Cape Town', 'Sharjah', 'Johannesburg',\n",
       "       'Port Elizabeth', 'Mount Maunganui', 'Bulawayo', 'Harare',\n",
       "       'Christchurch', 'Edinburgh', 'The Oval', 'Cardiff', 'Nottingham',\n",
       "       'Chester-le-Street', 'Manchester', \"Lord's\", 'Leeds', 'Providence',\n",
       "       'Basseterre', 'Dambulla', 'Amstelveen', 'Pallekele',\n",
       "       'Colombo (RPS)', 'Belfast', 'Kuala Lumpur', 'Dubai (DSC)',\n",
       "       'Abu Dhabi', 'Kimberley', 'Bloemfontein', 'Paarl', 'Guwahati',\n",
       "       'Visakhapatnam', 'Chattogram', 'Pune', 'Mumbai (BS)',\n",
       "       'Thiruvananthapuram', 'Hobart', 'Sylhet'], dtype=object)"
      ]
     },
     "execution_count": 19,
     "metadata": {},
     "output_type": "execute_result"
    }
   ],
   "source": [
    "df.Ground.unique()"
   ]
  },
  {
   "cell_type": "markdown",
   "metadata": {},
   "source": [
    "It will be a hassle if we do one-to-one mapping manually. We will take the data from wikipedia instead."
   ]
  },
  {
   "cell_type": "code",
   "execution_count": 20,
   "metadata": {},
   "outputs": [
    {
     "data": {
      "text/html": [
       "<div>\n",
       "<style scoped>\n",
       "    .dataframe tbody tr th:only-of-type {\n",
       "        vertical-align: middle;\n",
       "    }\n",
       "\n",
       "    .dataframe tbody tr th {\n",
       "        vertical-align: top;\n",
       "    }\n",
       "\n",
       "    .dataframe thead th {\n",
       "        text-align: right;\n",
       "    }\n",
       "</style>\n",
       "<table border=\"1\" class=\"dataframe\">\n",
       "  <thead>\n",
       "    <tr style=\"text-align: right;\">\n",
       "      <th></th>\n",
       "      <th>Rank</th>\n",
       "      <th>Ground</th>\n",
       "      <th>Capacity</th>\n",
       "      <th>City</th>\n",
       "      <th>Country</th>\n",
       "      <th>Home team(s)</th>\n",
       "    </tr>\n",
       "  </thead>\n",
       "  <tbody>\n",
       "    <tr>\n",
       "      <th>0</th>\n",
       "      <td>1</td>\n",
       "      <td>Narendra Modi Stadium</td>\n",
       "      <td>132,000[1]</td>\n",
       "      <td>Ahmedabad</td>\n",
       "      <td>India</td>\n",
       "      <td>India, Gujarat</td>\n",
       "    </tr>\n",
       "    <tr>\n",
       "      <th>1</th>\n",
       "      <td>2</td>\n",
       "      <td>Melbourne Cricket Ground</td>\n",
       "      <td>100024</td>\n",
       "      <td>Melbourne</td>\n",
       "      <td>Australia</td>\n",
       "      <td>Australia, Victoria, Melbourne Stars</td>\n",
       "    </tr>\n",
       "    <tr>\n",
       "      <th>2</th>\n",
       "      <td>3</td>\n",
       "      <td>Eden Gardens</td>\n",
       "      <td>80000</td>\n",
       "      <td>Kolkata</td>\n",
       "      <td>India</td>\n",
       "      <td>India, Bengal, Kolkata Knight Riders</td>\n",
       "    </tr>\n",
       "    <tr>\n",
       "      <th>3</th>\n",
       "      <td>4</td>\n",
       "      <td>Shaheed Veer Narayan Singh International Crick...</td>\n",
       "      <td>65400</td>\n",
       "      <td>Raipur</td>\n",
       "      <td>India</td>\n",
       "      <td>India, Chhattisgarh, Delhi Capitals</td>\n",
       "    </tr>\n",
       "    <tr>\n",
       "      <th>4</th>\n",
       "      <td>5</td>\n",
       "      <td>Perth Stadium</td>\n",
       "      <td>61266</td>\n",
       "      <td>Perth</td>\n",
       "      <td>Australia</td>\n",
       "      <td>Australia, Western Warriors, Perth Scorchers</td>\n",
       "    </tr>\n",
       "  </tbody>\n",
       "</table>\n",
       "</div>"
      ],
      "text/plain": [
       "   Rank                                             Ground    Capacity  \\\n",
       "0     1                              Narendra Modi Stadium  132,000[1]   \n",
       "1     2                           Melbourne Cricket Ground      100024   \n",
       "2     3                                       Eden Gardens       80000   \n",
       "3     4  Shaheed Veer Narayan Singh International Crick...       65400   \n",
       "4     5                                      Perth Stadium       61266   \n",
       "\n",
       "        City    Country                                  Home team(s)  \n",
       "0  Ahmedabad      India                                India, Gujarat  \n",
       "1  Melbourne  Australia          Australia, Victoria, Melbourne Stars  \n",
       "2    Kolkata      India          India, Bengal, Kolkata Knight Riders  \n",
       "3     Raipur      India           India, Chhattisgarh, Delhi Capitals  \n",
       "4      Perth  Australia  Australia, Western Warriors, Perth Scorchers  "
      ]
     },
     "execution_count": 20,
     "metadata": {},
     "output_type": "execute_result"
    }
   ],
   "source": [
    "wiki = pd.read_html('https://en.wikipedia.org/wiki/List_of_cricket_grounds_by_capacity')[0]\n",
    "wiki.head()"
   ]
  },
  {
   "cell_type": "code",
   "execution_count": 21,
   "metadata": {},
   "outputs": [],
   "source": [
    "wiki_dict = {}\n",
    "for city, country in zip(list(wiki.City),list(wiki.Country)):\n",
    "    wiki_dict[city] = country\n",
    "    \n",
    "#We added some more city-country pairs\n",
    "wiki_dict[\"Lord's\"] = \"London\"\n",
    "wiki_dict[\"The Oval\"] = \"London\"\n",
    "wiki_dict[\"Dubai (DSC)\"] = \"U.A.E.\"\n",
    "wiki_dict[\"Colombo (RPS)\"] = \"Sri Lanka\"\n",
    "wiki_dict[\"Mumbai (BS)\"] = \"India\"\n",
    "wiki_dict[\"ICCA Dubai\"] = \"U.A.E.\"\n",
    "wiki_dict[\"Nelson\"] = \"New Zealand\"\n",
    "wiki_dict[\"Basseterre\"] = \"Saint Kitts and Nevis\"\n",
    "wiki_dict[\"Dambulla\"] = \"Sri Lanka\"\n",
    "wiki_dict[\"Amstelveen\"] = \"Netherlands\"\n",
    "wiki_dict[\"Hamilton\"] = \"New Zealand\"\n",
    "wiki_dict[\"Mount Maunganui\"] = \"New Zealand\"\n",
    "wiki_dict[\"Dunedin\"] = \"New Zealand\"\n",
    "wiki_dict[\"Kuala Lumpur\"] = \"Malaysia\"\n",
    "wiki_dict[\"Chattogram\"] = \"Bangladesh\"\n",
    "wiki_dict[\"Hobart\"] = \"Australia\""
   ]
  },
  {
   "cell_type": "markdown",
   "metadata": {},
   "source": [
    "Now we map this `wiki_dict` into the main dataframe."
   ]
  },
  {
   "cell_type": "code",
   "execution_count": 22,
   "metadata": {},
   "outputs": [
    {
     "data": {
      "text/html": [
       "<div>\n",
       "<style scoped>\n",
       "    .dataframe tbody tr th:only-of-type {\n",
       "        vertical-align: middle;\n",
       "    }\n",
       "\n",
       "    .dataframe tbody tr th {\n",
       "        vertical-align: top;\n",
       "    }\n",
       "\n",
       "    .dataframe thead th {\n",
       "        text-align: right;\n",
       "    }\n",
       "</style>\n",
       "<table border=\"1\" class=\"dataframe\">\n",
       "  <thead>\n",
       "    <tr style=\"text-align: right;\">\n",
       "      <th></th>\n",
       "      <th>Team 1</th>\n",
       "      <th>Team 2</th>\n",
       "      <th>Winner</th>\n",
       "      <th>Ground</th>\n",
       "      <th>win_by</th>\n",
       "      <th>win_margin</th>\n",
       "      <th>year</th>\n",
       "      <th>month</th>\n",
       "      <th>day</th>\n",
       "      <th>score_id</th>\n",
       "      <th>ground_country</th>\n",
       "    </tr>\n",
       "  </thead>\n",
       "  <tbody>\n",
       "    <tr>\n",
       "      <th>0</th>\n",
       "      <td>New Zealand</td>\n",
       "      <td>Pakistan</td>\n",
       "      <td>New Zealand</td>\n",
       "      <td>Wellington</td>\n",
       "      <td>runs</td>\n",
       "      <td>61</td>\n",
       "      <td>2018</td>\n",
       "      <td>1</td>\n",
       "      <td>6</td>\n",
       "      <td>3946</td>\n",
       "      <td>New Zealand</td>\n",
       "    </tr>\n",
       "    <tr>\n",
       "      <th>1</th>\n",
       "      <td>New Zealand</td>\n",
       "      <td>Pakistan</td>\n",
       "      <td>New Zealand</td>\n",
       "      <td>Nelson</td>\n",
       "      <td>wickets</td>\n",
       "      <td>8</td>\n",
       "      <td>2018</td>\n",
       "      <td>1</td>\n",
       "      <td>9</td>\n",
       "      <td>3947</td>\n",
       "      <td>New Zealand</td>\n",
       "    </tr>\n",
       "    <tr>\n",
       "      <th>2</th>\n",
       "      <td>U.A.E.</td>\n",
       "      <td>Ireland</td>\n",
       "      <td>Ireland</td>\n",
       "      <td>ICCA Dubai</td>\n",
       "      <td>wickets</td>\n",
       "      <td>4</td>\n",
       "      <td>2018</td>\n",
       "      <td>1</td>\n",
       "      <td>11</td>\n",
       "      <td>3948</td>\n",
       "      <td>U.A.E.</td>\n",
       "    </tr>\n",
       "    <tr>\n",
       "      <th>3</th>\n",
       "      <td>New Zealand</td>\n",
       "      <td>Pakistan</td>\n",
       "      <td>New Zealand</td>\n",
       "      <td>Dunedin</td>\n",
       "      <td>runs</td>\n",
       "      <td>183</td>\n",
       "      <td>2018</td>\n",
       "      <td>1</td>\n",
       "      <td>13</td>\n",
       "      <td>3949</td>\n",
       "      <td>New Zealand</td>\n",
       "    </tr>\n",
       "    <tr>\n",
       "      <th>4</th>\n",
       "      <td>U.A.E.</td>\n",
       "      <td>Ireland</td>\n",
       "      <td>Ireland</td>\n",
       "      <td>ICCA Dubai</td>\n",
       "      <td>runs</td>\n",
       "      <td>67</td>\n",
       "      <td>2018</td>\n",
       "      <td>1</td>\n",
       "      <td>13</td>\n",
       "      <td>3950</td>\n",
       "      <td>U.A.E.</td>\n",
       "    </tr>\n",
       "  </tbody>\n",
       "</table>\n",
       "</div>"
      ],
      "text/plain": [
       "        Team 1    Team 2       Winner      Ground   win_by  win_margin  year  \\\n",
       "0  New Zealand  Pakistan  New Zealand  Wellington     runs          61  2018   \n",
       "1  New Zealand  Pakistan  New Zealand      Nelson  wickets           8  2018   \n",
       "2       U.A.E.   Ireland      Ireland  ICCA Dubai  wickets           4  2018   \n",
       "3  New Zealand  Pakistan  New Zealand     Dunedin     runs         183  2018   \n",
       "4       U.A.E.   Ireland      Ireland  ICCA Dubai     runs          67  2018   \n",
       "\n",
       "   month  day  score_id ground_country  \n",
       "0      1    6      3946    New Zealand  \n",
       "1      1    9      3947    New Zealand  \n",
       "2      1   11      3948         U.A.E.  \n",
       "3      1   13      3949    New Zealand  \n",
       "4      1   13      3950         U.A.E.  "
      ]
     },
     "execution_count": 22,
     "metadata": {},
     "output_type": "execute_result"
    }
   ],
   "source": [
    "df[\"ground_country\"] = df[\"Ground\"].map(wiki_dict)\n",
    "df.head()"
   ]
  },
  {
   "cell_type": "code",
   "execution_count": 23,
   "metadata": {},
   "outputs": [
    {
     "data": {
      "text/plain": [
       "False    128\n",
       "Name: ground_country, dtype: int64"
      ]
     },
     "execution_count": 23,
     "metadata": {},
     "output_type": "execute_result"
    }
   ],
   "source": [
    "df.ground_country.isnull().value_counts()"
   ]
  },
  {
   "cell_type": "markdown",
   "metadata": {},
   "source": [
    "All `Ground` have been successfully mapped."
   ]
  },
  {
   "cell_type": "markdown",
   "metadata": {},
   "source": [
    "### 4. Which country has played the most matches in their home ground?\n",
    "This looks like a bit complicated. But, you just need to match `Team 1` and the `ground_country`"
   ]
  },
  {
   "cell_type": "code",
   "execution_count": 24,
   "metadata": {},
   "outputs": [
    {
     "data": {
      "text/html": [
       "<div>\n",
       "<style scoped>\n",
       "    .dataframe tbody tr th:only-of-type {\n",
       "        vertical-align: middle;\n",
       "    }\n",
       "\n",
       "    .dataframe tbody tr th {\n",
       "        vertical-align: top;\n",
       "    }\n",
       "\n",
       "    .dataframe thead th {\n",
       "        text-align: right;\n",
       "    }\n",
       "</style>\n",
       "<table border=\"1\" class=\"dataframe\">\n",
       "  <thead>\n",
       "    <tr style=\"text-align: right;\">\n",
       "      <th></th>\n",
       "      <th>Team 1</th>\n",
       "      <th>Team 2</th>\n",
       "      <th>Winner</th>\n",
       "      <th>Ground</th>\n",
       "      <th>win_by</th>\n",
       "      <th>win_margin</th>\n",
       "      <th>year</th>\n",
       "      <th>month</th>\n",
       "      <th>day</th>\n",
       "      <th>score_id</th>\n",
       "      <th>ground_country</th>\n",
       "    </tr>\n",
       "  </thead>\n",
       "  <tbody>\n",
       "  </tbody>\n",
       "</table>\n",
       "</div>"
      ],
      "text/plain": [
       "Empty DataFrame\n",
       "Columns: [Team 1, Team 2, Winner, Ground, win_by, win_margin, year, month, day, score_id, ground_country]\n",
       "Index: []"
      ]
     },
     "execution_count": 24,
     "metadata": {},
     "output_type": "execute_result"
    }
   ],
   "source": [
    "df[df[\"Team 2\"] == df.ground_country]"
   ]
  },
  {
   "cell_type": "markdown",
   "metadata": {},
   "source": [
    "Result above indicated that no `Team 2` are the host for the cricket matches."
   ]
  },
  {
   "cell_type": "code",
   "execution_count": 25,
   "metadata": {},
   "outputs": [
    {
     "data": {
      "text/plain": [
       "Bangladesh    11\n",
       "Zimbabwe      11\n",
       "Sri Lanka     10\n",
       "Name: ground_country, dtype: int64"
      ]
     },
     "execution_count": 25,
     "metadata": {},
     "output_type": "execute_result"
    }
   ],
   "source": [
    "df[df[\"Team 1\"] == df.ground_country][\"ground_country\"].value_counts()[:3]"
   ]
  },
  {
   "cell_type": "markdown",
   "metadata": {},
   "source": [
    "### 5. How was the performance of Sri Lanka?\n",
    "Performance is measured by how many times it won, lost, drew, or no result."
   ]
  },
  {
   "cell_type": "code",
   "execution_count": 26,
   "metadata": {},
   "outputs": [
    {
     "name": "stdout",
     "output_type": "stream",
     "text": [
      "Played: 17\n",
      "Win: 6\n",
      "Draw: 0\n",
      "Lose: 10\n",
      "No Result: 1\n"
     ]
    },
    {
     "name": "stderr",
     "output_type": "stream",
     "text": [
      "<ipython-input-26-03d6d9901c53>:3: UserWarning: Boolean Series key will be reindexed to match DataFrame index.\n",
      "  draw = len(df[((df[\"Team 1\"] == \"Sri Lanka\") | (df[\"Team 2\"] == \"Sri Lanka\"))][df.Winner == \"tied\"])\n",
      "<ipython-input-26-03d6d9901c53>:4: UserWarning: Boolean Series key will be reindexed to match DataFrame index.\n",
      "  no_result =  len(df[((df[\"Team 1\"] == \"Sri Lanka\") | (df[\"Team 2\"] == \"Sri Lanka\"))][df.Winner == \"no result\"])\n"
     ]
    }
   ],
   "source": [
    "played = country_count[\"Sri Lanka\"]\n",
    "won = len(df[df.Winner == \"Sri Lanka\"])\n",
    "draw = len(df[((df[\"Team 1\"] == \"Sri Lanka\") | (df[\"Team 2\"] == \"Sri Lanka\"))][df.Winner == \"tied\"])\n",
    "no_result =  len(df[((df[\"Team 1\"] == \"Sri Lanka\") | (df[\"Team 2\"] == \"Sri Lanka\"))][df.Winner == \"no result\"])\n",
    "lost = played - won - draw - no_result\n",
    "\n",
    "print(f\"Played: {played}\")\n",
    "print(f\"Win: {won}\")\n",
    "print(f\"Draw: {draw}\")\n",
    "print(f\"Lose: {lost}\")\n",
    "print(f\"No Result: {no_result}\")"
   ]
  },
  {
   "cell_type": "markdown",
   "metadata": {},
   "source": [
    "### 6. What are the top 3 wins by Runs?"
   ]
  },
  {
   "cell_type": "code",
   "execution_count": 27,
   "metadata": {},
   "outputs": [
    {
     "data": {
      "text/html": [
       "<div>\n",
       "<style scoped>\n",
       "    .dataframe tbody tr th:only-of-type {\n",
       "        vertical-align: middle;\n",
       "    }\n",
       "\n",
       "    .dataframe tbody tr th {\n",
       "        vertical-align: top;\n",
       "    }\n",
       "\n",
       "    .dataframe thead th {\n",
       "        text-align: right;\n",
       "    }\n",
       "</style>\n",
       "<table border=\"1\" class=\"dataframe\">\n",
       "  <thead>\n",
       "    <tr style=\"text-align: right;\">\n",
       "      <th></th>\n",
       "      <th>Team 1</th>\n",
       "      <th>Team 2</th>\n",
       "      <th>Winner</th>\n",
       "      <th>Ground</th>\n",
       "      <th>win_by</th>\n",
       "      <th>win_margin</th>\n",
       "      <th>year</th>\n",
       "      <th>month</th>\n",
       "      <th>day</th>\n",
       "      <th>score_id</th>\n",
       "      <th>ground_country</th>\n",
       "    </tr>\n",
       "  </thead>\n",
       "  <tbody>\n",
       "    <tr>\n",
       "      <th>74</th>\n",
       "      <td>Zimbabwe</td>\n",
       "      <td>Pakistan</td>\n",
       "      <td>Pakistan</td>\n",
       "      <td>Bulawayo</td>\n",
       "      <td>runs</td>\n",
       "      <td>244</td>\n",
       "      <td>2018</td>\n",
       "      <td>7</td>\n",
       "      <td>20</td>\n",
       "      <td>4020</td>\n",
       "      <td>Zimbabwe</td>\n",
       "    </tr>\n",
       "    <tr>\n",
       "      <th>65</th>\n",
       "      <td>England</td>\n",
       "      <td>Australia</td>\n",
       "      <td>England</td>\n",
       "      <td>Nottingham</td>\n",
       "      <td>runs</td>\n",
       "      <td>242</td>\n",
       "      <td>2018</td>\n",
       "      <td>6</td>\n",
       "      <td>19</td>\n",
       "      <td>4011</td>\n",
       "      <td>England</td>\n",
       "    </tr>\n",
       "    <tr>\n",
       "      <th>49</th>\n",
       "      <td>Ireland</td>\n",
       "      <td>U.A.E.</td>\n",
       "      <td>Ireland</td>\n",
       "      <td>Harare</td>\n",
       "      <td>runs</td>\n",
       "      <td>226</td>\n",
       "      <td>2018</td>\n",
       "      <td>3</td>\n",
       "      <td>12</td>\n",
       "      <td>3995</td>\n",
       "      <td>Zimbabwe</td>\n",
       "    </tr>\n",
       "  </tbody>\n",
       "</table>\n",
       "</div>"
      ],
      "text/plain": [
       "      Team 1     Team 2    Winner      Ground win_by  win_margin  year  month  \\\n",
       "74  Zimbabwe   Pakistan  Pakistan    Bulawayo   runs         244  2018      7   \n",
       "65   England  Australia   England  Nottingham   runs         242  2018      6   \n",
       "49   Ireland     U.A.E.   Ireland      Harare   runs         226  2018      3   \n",
       "\n",
       "    day  score_id ground_country  \n",
       "74   20      4020       Zimbabwe  \n",
       "65   19      4011        England  \n",
       "49   12      3995       Zimbabwe  "
      ]
     },
     "execution_count": 27,
     "metadata": {},
     "output_type": "execute_result"
    }
   ],
   "source": [
    "df[df.win_by == \"runs\"].sort_values('win_margin',ascending=False)[:3]"
   ]
  },
  {
   "cell_type": "markdown",
   "metadata": {},
   "source": [
    "### 7. What is the month in which most ODIs were played?"
   ]
  },
  {
   "cell_type": "code",
   "execution_count": 28,
   "metadata": {},
   "outputs": [
    {
     "data": {
      "text/plain": [
       "3     26\n",
       "1     23\n",
       "10    14\n",
       "Name: month, dtype: int64"
      ]
     },
     "execution_count": 28,
     "metadata": {},
     "output_type": "execute_result"
    }
   ],
   "source": [
    "df.month.value_counts()[:3]"
   ]
  },
  {
   "cell_type": "markdown",
   "metadata": {},
   "source": [
    "If you need to access which month and put into some variables, you'll need an extra step."
   ]
  },
  {
   "cell_type": "code",
   "execution_count": 29,
   "metadata": {},
   "outputs": [
    {
     "data": {
      "text/plain": [
       "3"
      ]
     },
     "execution_count": 29,
     "metadata": {},
     "output_type": "execute_result"
    }
   ],
   "source": [
    "#Method 1\n",
    "temp = df.month.value_counts()\n",
    "temp.idxmax()"
   ]
  },
  {
   "cell_type": "code",
   "execution_count": 30,
   "metadata": {},
   "outputs": [
    {
     "data": {
      "text/plain": [
       "3"
      ]
     },
     "execution_count": 30,
     "metadata": {},
     "output_type": "execute_result"
    }
   ],
   "source": [
    "#Method 2\n",
    "temp = df.groupby('month')['month'].count()\n",
    "temp.idxmax()"
   ]
  },
  {
   "cell_type": "markdown",
   "metadata": {},
   "source": [
    "### 8. What is the team which toured most foreign countries?\n",
    "Since Team 1 may also not be a host country, then it is better to create a dictionary. For Team 2, it is confirmed that they were touring a foreign country."
   ]
  },
  {
   "cell_type": "code",
   "execution_count": 31,
   "metadata": {},
   "outputs": [
    {
     "name": "stdout",
     "output_type": "stream",
     "text": [
      "{'Afghanistan': 20, 'Ireland': 13, 'Bangladesh': 9, 'Hong Kong': 6, 'New Zealand': 3, 'England': 19, 'West Indies': 18, 'Scotland': 10, 'Sri Lanka': 7, 'India': 15, 'P.N.G.': 4, 'Nepal': 3, 'U.A.E.': 7, 'Pakistan': 18, 'Zimbabwe': 15, 'South Africa': 8, 'Australia': 5}\n"
     ]
    }
   ],
   "source": [
    "#For Team 1\n",
    "temp_1 = df[df['Team 1'] != df.ground_country]['Team 1'].value_counts()\n",
    "temp_1 = pd.DataFrame(temp_1)\n",
    "temp_1.reset_index(inplace=True)\n",
    "temp_1.columns = ['country','counts']\n",
    "\n",
    "#For Team 2\n",
    "temp_2 = df['Team 2'].value_counts()\n",
    "temp_2 = pd.DataFrame(temp_2)\n",
    "temp_2.reset_index(inplace=True)\n",
    "temp_2.columns = ['country','counts']\n",
    "\n",
    "#creating a dictionary to store counts for every country\n",
    "tour_count = {}\n",
    "\n",
    "#For Team 1\n",
    "for country, count in zip(list(temp_1.country),list(temp_1.counts)):\n",
    "    tour_count[country] = tour_count.get(country,0) + count\n",
    "\n",
    "#For Team 2\n",
    "for country, count in zip(list(temp_2.country),list(temp_2.counts)):\n",
    "    tour_count[country] = tour_count.get(country,0) + count\n",
    "    \n",
    "print(tour_count)"
   ]
  },
  {
   "cell_type": "code",
   "execution_count": 32,
   "metadata": {},
   "outputs": [
    {
     "name": "stdout",
     "output_type": "stream",
     "text": [
      "The country that toured the most was Afghanistan for 20 times.\n"
     ]
    }
   ],
   "source": [
    "tour_list = []\n",
    "for country in tour_count:\n",
    "    tour_list.append([country,tour_count[country]])\n",
    "    \n",
    "temp = pd.DataFrame(tour_list, columns=['country','counts'])\n",
    "top_country = temp[\"country\"].iloc[temp.counts.argmax()]\n",
    "top_count = temp[\"counts\"].iloc[temp.counts.argmax()]\n",
    "\n",
    "print(f\"The country that toured the most was {top_country} for {top_count} times.\")"
   ]
  },
  {
   "cell_type": "markdown",
   "metadata": {},
   "source": [
    "### 9. How many cricket matches were played every month?\n",
    "Simple groupby and aggregate counts will do."
   ]
  },
  {
   "cell_type": "code",
   "execution_count": 33,
   "metadata": {},
   "outputs": [
    {
     "data": {
      "text/plain": [
       "month\n",
       "1     23\n",
       "2     13\n",
       "3     26\n",
       "6      6\n",
       "7     12\n",
       "8     10\n",
       "9     14\n",
       "10    14\n",
       "11     7\n",
       "12     3\n",
       "Name: month, dtype: int64"
      ]
     },
     "execution_count": 33,
     "metadata": {},
     "output_type": "execute_result"
    }
   ],
   "source": [
    "df.groupby('month')['month'].agg('count')"
   ]
  },
  {
   "cell_type": "markdown",
   "metadata": {},
   "source": [
    "### 10. On which ground were most games played in?\n",
    "Value counts on `Ground` column"
   ]
  },
  {
   "cell_type": "code",
   "execution_count": 34,
   "metadata": {},
   "outputs": [
    {
     "data": {
      "text/plain": [
       "'Harare'"
      ]
     },
     "execution_count": 34,
     "metadata": {},
     "output_type": "execute_result"
    }
   ],
   "source": [
    "df.Ground.value_counts().idxmax()"
   ]
  },
  {
   "cell_type": "markdown",
   "metadata": {},
   "source": [
    "### 11. Did India win mostly chasing or playing first?"
   ]
  },
  {
   "cell_type": "code",
   "execution_count": 35,
   "metadata": {},
   "outputs": [
    {
     "name": "stdout",
     "output_type": "stream",
     "text": [
      "India won 9 times chasing and 5 times by playing first.\n"
     ]
    }
   ],
   "source": [
    "#number of times winning by chasing\n",
    "win_times_chase = len(df[(df[\"Team 2\"] == \"India\") & (df.Winner == 'India')])\n",
    "win_times_first = len(df[(df[\"Team 1\"] == \"India\") & (df.Winner == 'India')])\n",
    "\n",
    "print(f\"India won {win_times_chase} times chasing and {win_times_first} times by playing first.\")"
   ]
  },
  {
   "cell_type": "markdown",
   "metadata": {},
   "source": [
    "### 12. What are the top 3 countries winning most matches in 2018, show their win% every month.\n",
    "We will split this question into three parts. \n",
    "1. Select the top 3 countries winning most matches. \n",
    "2. Count how many times they play and win every month.\n",
    "3. Store these data into list and create a new dataframe to project them."
   ]
  },
  {
   "cell_type": "markdown",
   "metadata": {},
   "source": [
    "**Section 1**"
   ]
  },
  {
   "cell_type": "code",
   "execution_count": 36,
   "metadata": {},
   "outputs": [
    {
     "data": {
      "text/plain": [
       "['England', 'India', 'Bangladesh']"
      ]
     },
     "execution_count": 36,
     "metadata": {},
     "output_type": "execute_result"
    }
   ],
   "source": [
    "temp = df.Winner.value_counts()\n",
    "top_three = list(temp.index[:3])\n",
    "top_three"
   ]
  },
  {
   "cell_type": "markdown",
   "metadata": {},
   "source": [
    "**Section 2A Make a list of how many times they play every month**"
   ]
  },
  {
   "cell_type": "code",
   "execution_count": 37,
   "metadata": {},
   "outputs": [
    {
     "data": {
      "text/plain": [
       "[[5, 0, 5],\n",
       " [2, 6, 0],\n",
       " [3, 0, 0],\n",
       " [0, 0, 0],\n",
       " [0, 0, 0],\n",
       " [6, 0, 0],\n",
       " [3, 3, 3],\n",
       " [0, 0, 0],\n",
       " [0, 6, 6],\n",
       " [5, 4, 3],\n",
       " [0, 1, 0],\n",
       " [0, 0, 3]]"
      ]
     },
     "execution_count": 37,
     "metadata": {},
     "output_type": "execute_result"
    }
   ],
   "source": [
    "temp = []\n",
    "\n",
    "for months in range(1,13):\n",
    "    for country in top_three:\n",
    "        temp.append(len(df[((df[\"Team 1\"] == country) | (df[\"Team 2\"] == country)) & (df.month == months)]))\n",
    "\n",
    "play_list = []\n",
    "count = 0\n",
    "while count != len(temp):\n",
    "    play_list.append([temp[count],temp[count+1],temp[count+2]])\n",
    "    count += 3\n",
    "\n",
    "play_list"
   ]
  },
  {
   "cell_type": "markdown",
   "metadata": {},
   "source": [
    "**Section 2B Make a list of how many times they win every month**"
   ]
  },
  {
   "cell_type": "code",
   "execution_count": 38,
   "metadata": {},
   "outputs": [
    {
     "data": {
      "text/plain": [
       "[[4, 0, 3],\n",
       " [1, 5, 0],\n",
       " [2, 0, 0],\n",
       " [0, 0, 0],\n",
       " [0, 0, 0],\n",
       " [5, 0, 0],\n",
       " [2, 1, 2],\n",
       " [0, 0, 0],\n",
       " [0, 5, 3],\n",
       " [3, 2, 3],\n",
       " [0, 1, 0],\n",
       " [0, 0, 2]]"
      ]
     },
     "execution_count": 38,
     "metadata": {},
     "output_type": "execute_result"
    }
   ],
   "source": [
    "temp = []\n",
    "\n",
    "for months in range(1,13):\n",
    "    for country in top_three:\n",
    "        temp.append(len(df[(df.Winner == country) & (df.month == months)]))\n",
    "\n",
    "win_list = []\n",
    "count = 0\n",
    "while count != len(temp):\n",
    "    win_list.append([temp[count],temp[count+1],temp[count+2]])\n",
    "    count += 3\n",
    "\n",
    "win_list"
   ]
  },
  {
   "cell_type": "markdown",
   "metadata": {},
   "source": [
    "**Section 3 Calculating Win Percentage and Storing**\n",
    "\n",
    "To make the calculation, we can either iterate and divide through the list or use pandas to calulcate for win%."
   ]
  },
  {
   "cell_type": "code",
   "execution_count": 39,
   "metadata": {},
   "outputs": [
    {
     "data": {
      "text/html": [
       "<div>\n",
       "<style scoped>\n",
       "    .dataframe tbody tr th:only-of-type {\n",
       "        vertical-align: middle;\n",
       "    }\n",
       "\n",
       "    .dataframe tbody tr th {\n",
       "        vertical-align: top;\n",
       "    }\n",
       "\n",
       "    .dataframe thead th {\n",
       "        text-align: right;\n",
       "    }\n",
       "</style>\n",
       "<table border=\"1\" class=\"dataframe\">\n",
       "  <thead>\n",
       "    <tr style=\"text-align: right;\">\n",
       "      <th></th>\n",
       "      <th>play_England</th>\n",
       "      <th>play_India</th>\n",
       "      <th>play_Bangladesh</th>\n",
       "      <th>win_England</th>\n",
       "      <th>win_India</th>\n",
       "      <th>win_Bangladesh</th>\n",
       "    </tr>\n",
       "  </thead>\n",
       "  <tbody>\n",
       "    <tr>\n",
       "      <th>0</th>\n",
       "      <td>5</td>\n",
       "      <td>0</td>\n",
       "      <td>5</td>\n",
       "      <td>4</td>\n",
       "      <td>0</td>\n",
       "      <td>3</td>\n",
       "    </tr>\n",
       "    <tr>\n",
       "      <th>1</th>\n",
       "      <td>2</td>\n",
       "      <td>6</td>\n",
       "      <td>0</td>\n",
       "      <td>1</td>\n",
       "      <td>5</td>\n",
       "      <td>0</td>\n",
       "    </tr>\n",
       "    <tr>\n",
       "      <th>2</th>\n",
       "      <td>3</td>\n",
       "      <td>0</td>\n",
       "      <td>0</td>\n",
       "      <td>2</td>\n",
       "      <td>0</td>\n",
       "      <td>0</td>\n",
       "    </tr>\n",
       "  </tbody>\n",
       "</table>\n",
       "</div>"
      ],
      "text/plain": [
       "   play_England  play_India  play_Bangladesh  win_England  win_India  \\\n",
       "0             5           0                5            4          0   \n",
       "1             2           6                0            1          5   \n",
       "2             3           0                0            2          0   \n",
       "\n",
       "   win_Bangladesh  \n",
       "0               3  \n",
       "1               0  \n",
       "2               0  "
      ]
     },
     "execution_count": 39,
     "metadata": {},
     "output_type": "execute_result"
    }
   ],
   "source": [
    "#Using Pandas\n",
    "column_name1 = ['play_' + x for x in top_three]\n",
    "column_name2 = ['win_' + x for x in top_three]\n",
    "\n",
    "temp_1 = pd.DataFrame(play_list, columns = column_name1)\n",
    "temp_2 = pd.DataFrame(win_list, columns = column_name2)\n",
    "win_df = pd.concat([temp_1,temp_2], axis = 1)\n",
    "win_df[:3]"
   ]
  },
  {
   "cell_type": "code",
   "execution_count": 40,
   "metadata": {},
   "outputs": [
    {
     "data": {
      "text/html": [
       "<div>\n",
       "<style scoped>\n",
       "    .dataframe tbody tr th:only-of-type {\n",
       "        vertical-align: middle;\n",
       "    }\n",
       "\n",
       "    .dataframe tbody tr th {\n",
       "        vertical-align: top;\n",
       "    }\n",
       "\n",
       "    .dataframe thead th {\n",
       "        text-align: right;\n",
       "    }\n",
       "</style>\n",
       "<table border=\"1\" class=\"dataframe\">\n",
       "  <thead>\n",
       "    <tr style=\"text-align: right;\">\n",
       "      <th></th>\n",
       "      <th>play_England</th>\n",
       "      <th>play_India</th>\n",
       "      <th>play_Bangladesh</th>\n",
       "      <th>win_England</th>\n",
       "      <th>win_India</th>\n",
       "      <th>win_Bangladesh</th>\n",
       "      <th>winrate_England</th>\n",
       "      <th>winrate_India</th>\n",
       "      <th>winrate_Bangladesh</th>\n",
       "    </tr>\n",
       "  </thead>\n",
       "  <tbody>\n",
       "    <tr>\n",
       "      <th>0</th>\n",
       "      <td>5</td>\n",
       "      <td>0</td>\n",
       "      <td>5</td>\n",
       "      <td>4</td>\n",
       "      <td>0</td>\n",
       "      <td>3</td>\n",
       "      <td>80.0</td>\n",
       "      <td>NaN</td>\n",
       "      <td>60.0</td>\n",
       "    </tr>\n",
       "    <tr>\n",
       "      <th>1</th>\n",
       "      <td>2</td>\n",
       "      <td>6</td>\n",
       "      <td>0</td>\n",
       "      <td>1</td>\n",
       "      <td>5</td>\n",
       "      <td>0</td>\n",
       "      <td>50.0</td>\n",
       "      <td>83.3</td>\n",
       "      <td>NaN</td>\n",
       "    </tr>\n",
       "    <tr>\n",
       "      <th>2</th>\n",
       "      <td>3</td>\n",
       "      <td>0</td>\n",
       "      <td>0</td>\n",
       "      <td>2</td>\n",
       "      <td>0</td>\n",
       "      <td>0</td>\n",
       "      <td>66.7</td>\n",
       "      <td>NaN</td>\n",
       "      <td>NaN</td>\n",
       "    </tr>\n",
       "  </tbody>\n",
       "</table>\n",
       "</div>"
      ],
      "text/plain": [
       "   play_England  play_India  play_Bangladesh  win_England  win_India  \\\n",
       "0             5           0                5            4          0   \n",
       "1             2           6                0            1          5   \n",
       "2             3           0                0            2          0   \n",
       "\n",
       "   win_Bangladesh  winrate_England  winrate_India  winrate_Bangladesh  \n",
       "0               3             80.0            NaN                60.0  \n",
       "1               0             50.0           83.3                 NaN  \n",
       "2               0             66.7            NaN                 NaN  "
      ]
     },
     "execution_count": 40,
     "metadata": {},
     "output_type": "execute_result"
    }
   ],
   "source": [
    "#Using Pandas (continued)\n",
    "\n",
    "column_name3 = ['winrate_' + x for x in top_three]\n",
    "\n",
    "for i in range(len(top_three)):\n",
    "    win_df[column_name3[i]] = round(win_df[column_name2[i]] / win_df[column_name1[i]] * 100, 1)\n",
    "\n",
    "win_df[:3]"
   ]
  },
  {
   "cell_type": "code",
   "execution_count": 41,
   "metadata": {},
   "outputs": [
    {
     "data": {
      "text/html": [
       "<div>\n",
       "<style scoped>\n",
       "    .dataframe tbody tr th:only-of-type {\n",
       "        vertical-align: middle;\n",
       "    }\n",
       "\n",
       "    .dataframe tbody tr th {\n",
       "        vertical-align: top;\n",
       "    }\n",
       "\n",
       "    .dataframe thead th {\n",
       "        text-align: right;\n",
       "    }\n",
       "</style>\n",
       "<table border=\"1\" class=\"dataframe\">\n",
       "  <thead>\n",
       "    <tr style=\"text-align: right;\">\n",
       "      <th></th>\n",
       "      <th>month</th>\n",
       "      <th>winrate_England</th>\n",
       "      <th>winrate_India</th>\n",
       "      <th>winrate_Bangladesh</th>\n",
       "    </tr>\n",
       "  </thead>\n",
       "  <tbody>\n",
       "    <tr>\n",
       "      <th>0</th>\n",
       "      <td>January</td>\n",
       "      <td>80.0</td>\n",
       "      <td>NaN</td>\n",
       "      <td>60.0</td>\n",
       "    </tr>\n",
       "    <tr>\n",
       "      <th>1</th>\n",
       "      <td>February</td>\n",
       "      <td>50.0</td>\n",
       "      <td>83.3</td>\n",
       "      <td>NaN</td>\n",
       "    </tr>\n",
       "    <tr>\n",
       "      <th>2</th>\n",
       "      <td>March</td>\n",
       "      <td>66.7</td>\n",
       "      <td>NaN</td>\n",
       "      <td>NaN</td>\n",
       "    </tr>\n",
       "    <tr>\n",
       "      <th>3</th>\n",
       "      <td>April</td>\n",
       "      <td>NaN</td>\n",
       "      <td>NaN</td>\n",
       "      <td>NaN</td>\n",
       "    </tr>\n",
       "    <tr>\n",
       "      <th>4</th>\n",
       "      <td>May</td>\n",
       "      <td>NaN</td>\n",
       "      <td>NaN</td>\n",
       "      <td>NaN</td>\n",
       "    </tr>\n",
       "    <tr>\n",
       "      <th>5</th>\n",
       "      <td>June</td>\n",
       "      <td>83.3</td>\n",
       "      <td>NaN</td>\n",
       "      <td>NaN</td>\n",
       "    </tr>\n",
       "    <tr>\n",
       "      <th>6</th>\n",
       "      <td>July</td>\n",
       "      <td>66.7</td>\n",
       "      <td>33.3</td>\n",
       "      <td>66.7</td>\n",
       "    </tr>\n",
       "    <tr>\n",
       "      <th>7</th>\n",
       "      <td>August</td>\n",
       "      <td>NaN</td>\n",
       "      <td>NaN</td>\n",
       "      <td>NaN</td>\n",
       "    </tr>\n",
       "    <tr>\n",
       "      <th>8</th>\n",
       "      <td>September</td>\n",
       "      <td>NaN</td>\n",
       "      <td>83.3</td>\n",
       "      <td>50.0</td>\n",
       "    </tr>\n",
       "    <tr>\n",
       "      <th>9</th>\n",
       "      <td>October</td>\n",
       "      <td>60.0</td>\n",
       "      <td>50.0</td>\n",
       "      <td>100.0</td>\n",
       "    </tr>\n",
       "    <tr>\n",
       "      <th>10</th>\n",
       "      <td>November</td>\n",
       "      <td>NaN</td>\n",
       "      <td>100.0</td>\n",
       "      <td>NaN</td>\n",
       "    </tr>\n",
       "    <tr>\n",
       "      <th>11</th>\n",
       "      <td>December</td>\n",
       "      <td>NaN</td>\n",
       "      <td>NaN</td>\n",
       "      <td>66.7</td>\n",
       "    </tr>\n",
       "  </tbody>\n",
       "</table>\n",
       "</div>"
      ],
      "text/plain": [
       "        month  winrate_England  winrate_India  winrate_Bangladesh\n",
       "0     January             80.0            NaN                60.0\n",
       "1    February             50.0           83.3                 NaN\n",
       "2       March             66.7            NaN                 NaN\n",
       "3       April              NaN            NaN                 NaN\n",
       "4         May              NaN            NaN                 NaN\n",
       "5        June             83.3            NaN                 NaN\n",
       "6        July             66.7           33.3                66.7\n",
       "7      August              NaN            NaN                 NaN\n",
       "8   September              NaN           83.3                50.0\n",
       "9     October             60.0           50.0               100.0\n",
       "10   November              NaN          100.0                 NaN\n",
       "11   December              NaN            NaN                66.7"
      ]
     },
     "execution_count": 41,
     "metadata": {},
     "output_type": "execute_result"
    }
   ],
   "source": [
    "#Using Pandas (continued)\n",
    "#Drop irrelevant columns and create a column for months\n",
    "\n",
    "win_df.drop(column_name1 + column_name2,inplace=True,axis=1)\n",
    "win_df.reset_index(inplace=True)\n",
    "win_df.rename(columns = {'index':'month'},inplace=True)\n",
    "win_df['month'] = win_df['month'] + 1\n",
    "win_df['month'] = win_df['month'].map({1:'January',2:'February',3:'March',4:'April',5:'May',6:'June',7:'July',\\\n",
    "                                       8:'August',9:'September',10:'October',11:'November',12:'December'})\n",
    "\n",
    "win_df"
   ]
  },
  {
   "cell_type": "code",
   "execution_count": 42,
   "metadata": {},
   "outputs": [
    {
     "data": {
      "text/plain": [
       "[[80.0, None, 60.0], [50.0, 83.3, None], [66.7, None, None]]"
      ]
     },
     "execution_count": 42,
     "metadata": {},
     "output_type": "execute_result"
    }
   ],
   "source": [
    "#Using List Iterations\n",
    "winrate_list = []\n",
    "\n",
    "for i in range(len(play_list)):\n",
    "    temp = [] \n",
    "    for j in range(len(column_name1)):\n",
    "        try:\n",
    "            temp.append(round(win_list[i][j] / play_list[i][j] * 100 , 1))\n",
    "        except ZeroDivisionError:\n",
    "            temp.append(None)\n",
    "            \n",
    "    winrate_list.append(temp)\n",
    "    \n",
    "winrate_list[:3]"
   ]
  },
  {
   "cell_type": "code",
   "execution_count": 43,
   "metadata": {},
   "outputs": [
    {
     "data": {
      "text/html": [
       "<div>\n",
       "<style scoped>\n",
       "    .dataframe tbody tr th:only-of-type {\n",
       "        vertical-align: middle;\n",
       "    }\n",
       "\n",
       "    .dataframe tbody tr th {\n",
       "        vertical-align: top;\n",
       "    }\n",
       "\n",
       "    .dataframe thead th {\n",
       "        text-align: right;\n",
       "    }\n",
       "</style>\n",
       "<table border=\"1\" class=\"dataframe\">\n",
       "  <thead>\n",
       "    <tr style=\"text-align: right;\">\n",
       "      <th></th>\n",
       "      <th>month</th>\n",
       "      <th>winrate_England</th>\n",
       "      <th>winrate_India</th>\n",
       "      <th>winrate_Bangladesh</th>\n",
       "    </tr>\n",
       "  </thead>\n",
       "  <tbody>\n",
       "    <tr>\n",
       "      <th>0</th>\n",
       "      <td>January</td>\n",
       "      <td>80.0</td>\n",
       "      <td>NaN</td>\n",
       "      <td>60.0</td>\n",
       "    </tr>\n",
       "    <tr>\n",
       "      <th>1</th>\n",
       "      <td>February</td>\n",
       "      <td>50.0</td>\n",
       "      <td>83.3</td>\n",
       "      <td>NaN</td>\n",
       "    </tr>\n",
       "    <tr>\n",
       "      <th>2</th>\n",
       "      <td>March</td>\n",
       "      <td>66.7</td>\n",
       "      <td>NaN</td>\n",
       "      <td>NaN</td>\n",
       "    </tr>\n",
       "    <tr>\n",
       "      <th>3</th>\n",
       "      <td>April</td>\n",
       "      <td>NaN</td>\n",
       "      <td>NaN</td>\n",
       "      <td>NaN</td>\n",
       "    </tr>\n",
       "    <tr>\n",
       "      <th>4</th>\n",
       "      <td>May</td>\n",
       "      <td>NaN</td>\n",
       "      <td>NaN</td>\n",
       "      <td>NaN</td>\n",
       "    </tr>\n",
       "    <tr>\n",
       "      <th>5</th>\n",
       "      <td>June</td>\n",
       "      <td>83.3</td>\n",
       "      <td>NaN</td>\n",
       "      <td>NaN</td>\n",
       "    </tr>\n",
       "    <tr>\n",
       "      <th>6</th>\n",
       "      <td>July</td>\n",
       "      <td>66.7</td>\n",
       "      <td>33.3</td>\n",
       "      <td>66.7</td>\n",
       "    </tr>\n",
       "    <tr>\n",
       "      <th>7</th>\n",
       "      <td>August</td>\n",
       "      <td>NaN</td>\n",
       "      <td>NaN</td>\n",
       "      <td>NaN</td>\n",
       "    </tr>\n",
       "    <tr>\n",
       "      <th>8</th>\n",
       "      <td>September</td>\n",
       "      <td>NaN</td>\n",
       "      <td>83.3</td>\n",
       "      <td>50.0</td>\n",
       "    </tr>\n",
       "    <tr>\n",
       "      <th>9</th>\n",
       "      <td>October</td>\n",
       "      <td>60.0</td>\n",
       "      <td>50.0</td>\n",
       "      <td>100.0</td>\n",
       "    </tr>\n",
       "    <tr>\n",
       "      <th>10</th>\n",
       "      <td>November</td>\n",
       "      <td>NaN</td>\n",
       "      <td>100.0</td>\n",
       "      <td>NaN</td>\n",
       "    </tr>\n",
       "    <tr>\n",
       "      <th>11</th>\n",
       "      <td>December</td>\n",
       "      <td>NaN</td>\n",
       "      <td>NaN</td>\n",
       "      <td>66.7</td>\n",
       "    </tr>\n",
       "  </tbody>\n",
       "</table>\n",
       "</div>"
      ],
      "text/plain": [
       "        month  winrate_England  winrate_India  winrate_Bangladesh\n",
       "0     January             80.0            NaN                60.0\n",
       "1    February             50.0           83.3                 NaN\n",
       "2       March             66.7            NaN                 NaN\n",
       "3       April              NaN            NaN                 NaN\n",
       "4         May              NaN            NaN                 NaN\n",
       "5        June             83.3            NaN                 NaN\n",
       "6        July             66.7           33.3                66.7\n",
       "7      August              NaN            NaN                 NaN\n",
       "8   September              NaN           83.3                50.0\n",
       "9     October             60.0           50.0               100.0\n",
       "10   November              NaN          100.0                 NaN\n",
       "11   December              NaN            NaN                66.7"
      ]
     },
     "execution_count": 43,
     "metadata": {},
     "output_type": "execute_result"
    }
   ],
   "source": [
    "#Using List Iterations (continued)\n",
    "\n",
    "month_dict = {0:'January',1:'February',2:'March',3:'April',4:'May',5:'June',6:'July',\\\n",
    "              7:'August',8:'September',9:'October',10:'November',11:'December'}\n",
    "temp = pd.DataFrame(winrate_list,columns = column_name3)\n",
    "temp.reset_index(inplace=True)\n",
    "temp.rename(columns = {'index':'month'},inplace=True)\n",
    "temp['month'] = temp['month'].map(month_dict)\n",
    "\n",
    "temp"
   ]
  },
  {
   "cell_type": "markdown",
   "metadata": {},
   "source": [
    " **Pandas** and **List** method works. In terms of memory usage, the **List** (or Arrays) uses smaller memory size."
   ]
  },
  {
   "cell_type": "markdown",
   "metadata": {},
   "source": [
    "### 13. Which teams had lost most of the matches?\n",
    "Previously we had created the variable `country_count` which stores the number of plays for each country. And with the number of wins we can compute the win percentage. In this case, the lowest indicates the team that had lost the most."
   ]
  },
  {
   "cell_type": "code",
   "execution_count": 44,
   "metadata": {},
   "outputs": [
    {
     "data": {
      "text/html": [
       "<div>\n",
       "<style scoped>\n",
       "    .dataframe tbody tr th:only-of-type {\n",
       "        vertical-align: middle;\n",
       "    }\n",
       "\n",
       "    .dataframe tbody tr th {\n",
       "        vertical-align: top;\n",
       "    }\n",
       "\n",
       "    .dataframe thead th {\n",
       "        text-align: right;\n",
       "    }\n",
       "</style>\n",
       "<table border=\"1\" class=\"dataframe\">\n",
       "  <thead>\n",
       "    <tr style=\"text-align: right;\">\n",
       "      <th></th>\n",
       "      <th>plays</th>\n",
       "    </tr>\n",
       "  </thead>\n",
       "  <tbody>\n",
       "    <tr>\n",
       "      <th>Afghanistan</th>\n",
       "      <td>20</td>\n",
       "    </tr>\n",
       "    <tr>\n",
       "      <th>Bangladesh</th>\n",
       "      <td>20</td>\n",
       "    </tr>\n",
       "    <tr>\n",
       "      <th>New Zealand</th>\n",
       "      <td>13</td>\n",
       "    </tr>\n",
       "  </tbody>\n",
       "</table>\n",
       "</div>"
      ],
      "text/plain": [
       "             plays\n",
       "Afghanistan     20\n",
       "Bangladesh      20\n",
       "New Zealand     13"
      ]
     },
     "execution_count": 44,
     "metadata": {},
     "output_type": "execute_result"
    }
   ],
   "source": [
    "temp_1 = pd.DataFrame(country_count,index=[0])\n",
    "temp_1 = temp_1.T\n",
    "temp_1.rename(columns = {0:'plays'},inplace=True)\n",
    "\n",
    "temp_1[:3]"
   ]
  },
  {
   "cell_type": "markdown",
   "metadata": {},
   "source": [
    "Note that we have set the `country_name` into index. We need to create a similar transposed dataframe for `win_count` and join them on index."
   ]
  },
  {
   "cell_type": "code",
   "execution_count": 45,
   "metadata": {},
   "outputs": [
    {
     "data": {
      "text/html": [
       "<div>\n",
       "<style scoped>\n",
       "    .dataframe tbody tr th:only-of-type {\n",
       "        vertical-align: middle;\n",
       "    }\n",
       "\n",
       "    .dataframe tbody tr th {\n",
       "        vertical-align: top;\n",
       "    }\n",
       "\n",
       "    .dataframe thead th {\n",
       "        text-align: right;\n",
       "    }\n",
       "</style>\n",
       "<table border=\"1\" class=\"dataframe\">\n",
       "  <thead>\n",
       "    <tr style=\"text-align: right;\">\n",
       "      <th></th>\n",
       "      <th>win_count</th>\n",
       "    </tr>\n",
       "  </thead>\n",
       "  <tbody>\n",
       "    <tr>\n",
       "      <th>England</th>\n",
       "      <td>17</td>\n",
       "    </tr>\n",
       "    <tr>\n",
       "      <th>India</th>\n",
       "      <td>14</td>\n",
       "    </tr>\n",
       "    <tr>\n",
       "      <th>Bangladesh</th>\n",
       "      <td>13</td>\n",
       "    </tr>\n",
       "  </tbody>\n",
       "</table>\n",
       "</div>"
      ],
      "text/plain": [
       "            win_count\n",
       "England            17\n",
       "India              14\n",
       "Bangladesh         13"
      ]
     },
     "execution_count": 45,
     "metadata": {},
     "output_type": "execute_result"
    }
   ],
   "source": [
    "temp_2 = df.Winner.value_counts()\n",
    "temp_2 = pd.DataFrame(temp_2)\n",
    "temp_2.columns = ['win_count']\n",
    "temp_2[:3]"
   ]
  },
  {
   "cell_type": "code",
   "execution_count": 46,
   "metadata": {},
   "outputs": [
    {
     "data": {
      "text/html": [
       "<div>\n",
       "<style scoped>\n",
       "    .dataframe tbody tr th:only-of-type {\n",
       "        vertical-align: middle;\n",
       "    }\n",
       "\n",
       "    .dataframe tbody tr th {\n",
       "        vertical-align: top;\n",
       "    }\n",
       "\n",
       "    .dataframe thead th {\n",
       "        text-align: right;\n",
       "    }\n",
       "</style>\n",
       "<table border=\"1\" class=\"dataframe\">\n",
       "  <thead>\n",
       "    <tr style=\"text-align: right;\">\n",
       "      <th></th>\n",
       "      <th>plays</th>\n",
       "      <th>win_count</th>\n",
       "    </tr>\n",
       "  </thead>\n",
       "  <tbody>\n",
       "    <tr>\n",
       "      <th>Afghanistan</th>\n",
       "      <td>20</td>\n",
       "      <td>12</td>\n",
       "    </tr>\n",
       "    <tr>\n",
       "      <th>Bangladesh</th>\n",
       "      <td>20</td>\n",
       "      <td>13</td>\n",
       "    </tr>\n",
       "    <tr>\n",
       "      <th>New Zealand</th>\n",
       "      <td>13</td>\n",
       "      <td>8</td>\n",
       "    </tr>\n",
       "  </tbody>\n",
       "</table>\n",
       "</div>"
      ],
      "text/plain": [
       "             plays  win_count\n",
       "Afghanistan     20         12\n",
       "Bangladesh      20         13\n",
       "New Zealand     13          8"
      ]
     },
     "execution_count": 46,
     "metadata": {},
     "output_type": "execute_result"
    }
   ],
   "source": [
    "temp = pd.concat([temp_1,temp_2],axis=1,join='inner')\n",
    "temp[:3]"
   ]
  },
  {
   "cell_type": "markdown",
   "metadata": {},
   "source": [
    "We have joined the two dataframe we created earlier. Now we compute for the `winrate` and sort from lowest to highest."
   ]
  },
  {
   "cell_type": "code",
   "execution_count": 47,
   "metadata": {},
   "outputs": [
    {
     "data": {
      "text/html": [
       "<div>\n",
       "<style scoped>\n",
       "    .dataframe tbody tr th:only-of-type {\n",
       "        vertical-align: middle;\n",
       "    }\n",
       "\n",
       "    .dataframe tbody tr th {\n",
       "        vertical-align: top;\n",
       "    }\n",
       "\n",
       "    .dataframe thead th {\n",
       "        text-align: right;\n",
       "    }\n",
       "</style>\n",
       "<table border=\"1\" class=\"dataframe\">\n",
       "  <thead>\n",
       "    <tr style=\"text-align: right;\">\n",
       "      <th></th>\n",
       "      <th>plays</th>\n",
       "      <th>win_count</th>\n",
       "      <th>winrate</th>\n",
       "    </tr>\n",
       "  </thead>\n",
       "  <tbody>\n",
       "    <tr>\n",
       "      <th>Australia</th>\n",
       "      <td>13</td>\n",
       "      <td>2</td>\n",
       "      <td>15.4</td>\n",
       "    </tr>\n",
       "    <tr>\n",
       "      <th>Hong Kong</th>\n",
       "      <td>6</td>\n",
       "      <td>1</td>\n",
       "      <td>16.7</td>\n",
       "    </tr>\n",
       "    <tr>\n",
       "      <th>Zimbabwe</th>\n",
       "      <td>26</td>\n",
       "      <td>5</td>\n",
       "      <td>19.2</td>\n",
       "    </tr>\n",
       "  </tbody>\n",
       "</table>\n",
       "</div>"
      ],
      "text/plain": [
       "           plays  win_count  winrate\n",
       "Australia     13          2     15.4\n",
       "Hong Kong      6          1     16.7\n",
       "Zimbabwe      26          5     19.2"
      ]
     },
     "execution_count": 47,
     "metadata": {},
     "output_type": "execute_result"
    }
   ],
   "source": [
    "temp['winrate'] = round(temp.win_count / temp.plays * 100, 1)\n",
    "temp.sort_values('winrate',ascending = True)[:3]"
   ]
  },
  {
   "cell_type": "markdown",
   "metadata": {},
   "source": [
    "### 14. Did this team loses the match by chasing or playing first?"
   ]
  },
  {
   "cell_type": "markdown",
   "metadata": {},
   "source": [
    "For this instance, we decided to look the stats for Australia only."
   ]
  },
  {
   "cell_type": "code",
   "execution_count": 48,
   "metadata": {},
   "outputs": [
    {
     "name": "stdout",
     "output_type": "stream",
     "text": [
      "Australia lost the matches by 5 times chasing and 6 times playing first.\n"
     ]
    }
   ],
   "source": [
    "num_chase = len(df[(df[\"Team 2\"] == 'Australia') & (df.Winner != 'Australia')])\n",
    "num_first = len(df[(df[\"Team 1\"] == 'Australia') & (df.Winner != 'Australia')])\n",
    "\n",
    "print(f'Australia lost the matches by {num_chase} times chasing and {num_first} times playing first.')"
   ]
  },
  {
   "cell_type": "markdown",
   "metadata": {},
   "source": [
    "## The End"
   ]
  }
 ],
 "metadata": {
  "kernelspec": {
   "display_name": "Python 3",
   "language": "python",
   "name": "python3"
  },
  "language_info": {
   "codemirror_mode": {
    "name": "ipython",
    "version": 3
   },
   "file_extension": ".py",
   "mimetype": "text/x-python",
   "name": "python",
   "nbconvert_exporter": "python",
   "pygments_lexer": "ipython3",
   "version": "3.8.5"
  }
 },
 "nbformat": 4,
 "nbformat_minor": 5
}
