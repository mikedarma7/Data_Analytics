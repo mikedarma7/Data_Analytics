{
 "cells": [
  {
   "cell_type": "markdown",
   "metadata": {},
   "source": [
    "# A. Data Preparation and Cleaning"
   ]
  },
  {
   "cell_type": "markdown",
   "metadata": {},
   "source": [
    "In this notebook we will attempt to work on the sample data analytics problem offered by Abhishek Agarrwal about Singapore Residents Data. Link to his Youtube content for this problem https://www.youtube.com/watch?v=xArNPFG_nq0&t=193s"
   ]
  },
  {
   "cell_type": "markdown",
   "metadata": {},
   "source": [
    "### Essential Libraries\n",
    "First and foremost is importing the relevant libraries\n",
    "\n",
    "> NumPy : Library for Numeric Computations in Python  \n",
    "> Pandas : Library for Data Acquisition and Preparation  \n",
    "> Matplotlib and Seaborn : Library for Data Visualization\n"
   ]
  },
  {
   "cell_type": "code",
   "execution_count": 1,
   "metadata": {},
   "outputs": [],
   "source": [
    "import pandas as pd\n",
    "import numpy as np\n",
    "import matplotlib.pyplot as plt\n",
    "import seaborn as sb"
   ]
  },
  {
   "cell_type": "markdown",
   "metadata": {},
   "source": [
    "Load in the csv file 'singapore-residents data.csv'"
   ]
  },
  {
   "cell_type": "code",
   "execution_count": 2,
   "metadata": {},
   "outputs": [
    {
     "data": {
      "text/html": [
       "<div>\n",
       "<style scoped>\n",
       "    .dataframe tbody tr th:only-of-type {\n",
       "        vertical-align: middle;\n",
       "    }\n",
       "\n",
       "    .dataframe tbody tr th {\n",
       "        vertical-align: top;\n",
       "    }\n",
       "\n",
       "    .dataframe thead th {\n",
       "        text-align: right;\n",
       "    }\n",
       "</style>\n",
       "<table border=\"1\" class=\"dataframe\">\n",
       "  <thead>\n",
       "    <tr style=\"text-align: right;\">\n",
       "      <th></th>\n",
       "      <th>year</th>\n",
       "      <th>level_1</th>\n",
       "      <th>value</th>\n",
       "    </tr>\n",
       "  </thead>\n",
       "  <tbody>\n",
       "    <tr>\n",
       "      <th>0</th>\n",
       "      <td>1960</td>\n",
       "      <td>Total Residents</td>\n",
       "      <td>1646400</td>\n",
       "    </tr>\n",
       "    <tr>\n",
       "      <th>1</th>\n",
       "      <td>1960</td>\n",
       "      <td>Total Male Residents</td>\n",
       "      <td>859600</td>\n",
       "    </tr>\n",
       "    <tr>\n",
       "      <th>2</th>\n",
       "      <td>1960</td>\n",
       "      <td>Total Female Residents</td>\n",
       "      <td>786800</td>\n",
       "    </tr>\n",
       "    <tr>\n",
       "      <th>3</th>\n",
       "      <td>1960</td>\n",
       "      <td>Total Malays</td>\n",
       "      <td>232200</td>\n",
       "    </tr>\n",
       "    <tr>\n",
       "      <th>4</th>\n",
       "      <td>1960</td>\n",
       "      <td>Total Male Malays</td>\n",
       "      <td>121000</td>\n",
       "    </tr>\n",
       "  </tbody>\n",
       "</table>\n",
       "</div>"
      ],
      "text/plain": [
       "   year                 level_1    value\n",
       "0  1960         Total Residents  1646400\n",
       "1  1960    Total Male Residents   859600\n",
       "2  1960  Total Female Residents   786800\n",
       "3  1960            Total Malays   232200\n",
       "4  1960       Total Male Malays   121000"
      ]
     },
     "execution_count": 2,
     "metadata": {},
     "output_type": "execute_result"
    }
   ],
   "source": [
    "raw = pd.read_csv('singapore-residents data.csv')\n",
    "raw.head()"
   ]
  },
  {
   "cell_type": "markdown",
   "metadata": {},
   "source": [
    "Take a look at the dataset. `Year` is one variable indicating a potential time-series analysis. Other `variables` are number of population based on gender and race.\n",
    "\n",
    "Do note that there are several unimportant variables such as `Total Residents`, `Total Male Residents`, `Total Malays`, so on and so forth. The reason behind removing them is because we can simply obtain these values from the remaining `Gender-Race` variables.\n",
    "\n",
    "Also check the size and data types of the dataframe."
   ]
  },
  {
   "cell_type": "code",
   "execution_count": 3,
   "metadata": {},
   "outputs": [
    {
     "data": {
      "text/plain": [
       "(885, 3)"
      ]
     },
     "execution_count": 3,
     "metadata": {},
     "output_type": "execute_result"
    }
   ],
   "source": [
    "raw.shape"
   ]
  },
  {
   "cell_type": "code",
   "execution_count": 4,
   "metadata": {},
   "outputs": [
    {
     "data": {
      "text/plain": [
       "year        int64\n",
       "level_1    object\n",
       "value       int64\n",
       "dtype: object"
      ]
     },
     "execution_count": 4,
     "metadata": {},
     "output_type": "execute_result"
    }
   ],
   "source": [
    "raw.dtypes"
   ]
  },
  {
   "cell_type": "markdown",
   "metadata": {},
   "source": [
    "### Performing Data Re-structuring\n",
    "\n",
    "Our two objectives are:\n",
    "1. Removing irrelevant variables from `level_1` column\n",
    "2. Creating a list of values for every remaining variables from `level_1` column"
   ]
  },
  {
   "cell_type": "code",
   "execution_count": 5,
   "metadata": {},
   "outputs": [
    {
     "data": {
      "text/html": [
       "<div>\n",
       "<style scoped>\n",
       "    .dataframe tbody tr th:only-of-type {\n",
       "        vertical-align: middle;\n",
       "    }\n",
       "\n",
       "    .dataframe tbody tr th {\n",
       "        vertical-align: top;\n",
       "    }\n",
       "\n",
       "    .dataframe thead th {\n",
       "        text-align: right;\n",
       "    }\n",
       "</style>\n",
       "<table border=\"1\" class=\"dataframe\">\n",
       "  <thead>\n",
       "    <tr style=\"text-align: right;\">\n",
       "      <th></th>\n",
       "      <th>year</th>\n",
       "      <th>level_1</th>\n",
       "      <th>value</th>\n",
       "    </tr>\n",
       "  </thead>\n",
       "  <tbody>\n",
       "    <tr>\n",
       "      <th>4</th>\n",
       "      <td>1960</td>\n",
       "      <td>Total Male Malays</td>\n",
       "      <td>121000</td>\n",
       "    </tr>\n",
       "    <tr>\n",
       "      <th>5</th>\n",
       "      <td>1960</td>\n",
       "      <td>Total Female Malays</td>\n",
       "      <td>111200</td>\n",
       "    </tr>\n",
       "    <tr>\n",
       "      <th>7</th>\n",
       "      <td>1960</td>\n",
       "      <td>Total Male Chinese</td>\n",
       "      <td>636000</td>\n",
       "    </tr>\n",
       "    <tr>\n",
       "      <th>8</th>\n",
       "      <td>1960</td>\n",
       "      <td>Total Female Chinese</td>\n",
       "      <td>615600</td>\n",
       "    </tr>\n",
       "    <tr>\n",
       "      <th>10</th>\n",
       "      <td>1960</td>\n",
       "      <td>Total Male Indians</td>\n",
       "      <td>88000</td>\n",
       "    </tr>\n",
       "  </tbody>\n",
       "</table>\n",
       "</div>"
      ],
      "text/plain": [
       "    year               level_1   value\n",
       "4   1960     Total Male Malays  121000\n",
       "5   1960   Total Female Malays  111200\n",
       "7   1960    Total Male Chinese  636000\n",
       "8   1960  Total Female Chinese  615600\n",
       "10  1960    Total Male Indians   88000"
      ]
     },
     "execution_count": 5,
     "metadata": {},
     "output_type": "execute_result"
    }
   ],
   "source": [
    "removed_var = ['Total Residents','Total Male Residents','Total Female Residents','Total Malays','Total Chinese', \\\n",
    "              'Total Indians','Other Ethnic Groups (Total)']\n",
    "\n",
    "raw_1 = raw[~raw.level_1.isin(removed_var)] #Use DataFrame slicing, '~' means NOT\n",
    "raw_1.head() #always good to save the edited dataframe under different variable, provided dataframe does not take a lot of memory."
   ]
  },
  {
   "cell_type": "code",
   "execution_count": 6,
   "metadata": {},
   "outputs": [],
   "source": [
    "var_year = raw.year.unique()\n",
    "\n",
    "new_list = []\n",
    "for year in var_year:\n",
    "    new_list.append([year] + list(raw_1[raw_1.year == year].value))\n",
    "\n",
    "column_name = ['Year','M-Malay','F-Malay','M-Chinese','F-Chinese','M-Indians','F-Indians','M-Other','F-Other']"
   ]
  },
  {
   "cell_type": "markdown",
   "metadata": {},
   "source": [
    "Our next objectives will be making a new dataframe from the lists above. Ref: https://pandas.pydata.org/docs/reference/api/pandas.DataFrame.html"
   ]
  },
  {
   "cell_type": "code",
   "execution_count": 7,
   "metadata": {},
   "outputs": [
    {
     "data": {
      "text/html": [
       "<div>\n",
       "<style scoped>\n",
       "    .dataframe tbody tr th:only-of-type {\n",
       "        vertical-align: middle;\n",
       "    }\n",
       "\n",
       "    .dataframe tbody tr th {\n",
       "        vertical-align: top;\n",
       "    }\n",
       "\n",
       "    .dataframe thead th {\n",
       "        text-align: right;\n",
       "    }\n",
       "</style>\n",
       "<table border=\"1\" class=\"dataframe\">\n",
       "  <thead>\n",
       "    <tr style=\"text-align: right;\">\n",
       "      <th></th>\n",
       "      <th>Year</th>\n",
       "      <th>M-Malay</th>\n",
       "      <th>F-Malay</th>\n",
       "      <th>M-Chinese</th>\n",
       "      <th>F-Chinese</th>\n",
       "      <th>M-Indians</th>\n",
       "      <th>F-Indians</th>\n",
       "      <th>M-Other</th>\n",
       "      <th>F-Other</th>\n",
       "    </tr>\n",
       "  </thead>\n",
       "  <tbody>\n",
       "    <tr>\n",
       "      <th>0</th>\n",
       "      <td>1960</td>\n",
       "      <td>121000</td>\n",
       "      <td>111200</td>\n",
       "      <td>636000</td>\n",
       "      <td>615600</td>\n",
       "      <td>88000</td>\n",
       "      <td>45200</td>\n",
       "      <td>14600</td>\n",
       "      <td>14800</td>\n",
       "    </tr>\n",
       "    <tr>\n",
       "      <th>1</th>\n",
       "      <td>1961</td>\n",
       "      <td>125700</td>\n",
       "      <td>116800</td>\n",
       "      <td>657600</td>\n",
       "      <td>637400</td>\n",
       "      <td>88800</td>\n",
       "      <td>46900</td>\n",
       "      <td>14400</td>\n",
       "      <td>14800</td>\n",
       "    </tr>\n",
       "    <tr>\n",
       "      <th>2</th>\n",
       "      <td>1962</td>\n",
       "      <td>129300</td>\n",
       "      <td>121000</td>\n",
       "      <td>676500</td>\n",
       "      <td>656500</td>\n",
       "      <td>89000</td>\n",
       "      <td>48100</td>\n",
       "      <td>14700</td>\n",
       "      <td>15100</td>\n",
       "    </tr>\n",
       "    <tr>\n",
       "      <th>3</th>\n",
       "      <td>1963</td>\n",
       "      <td>132000</td>\n",
       "      <td>125200</td>\n",
       "      <td>694200</td>\n",
       "      <td>675100</td>\n",
       "      <td>87900</td>\n",
       "      <td>49500</td>\n",
       "      <td>15200</td>\n",
       "      <td>15900</td>\n",
       "    </tr>\n",
       "    <tr>\n",
       "      <th>4</th>\n",
       "      <td>1964</td>\n",
       "      <td>136700</td>\n",
       "      <td>130300</td>\n",
       "      <td>712300</td>\n",
       "      <td>693200</td>\n",
       "      <td>87400</td>\n",
       "      <td>51000</td>\n",
       "      <td>15100</td>\n",
       "      <td>15600</td>\n",
       "    </tr>\n",
       "  </tbody>\n",
       "</table>\n",
       "</div>"
      ],
      "text/plain": [
       "   Year  M-Malay  F-Malay  M-Chinese  F-Chinese  M-Indians  F-Indians  \\\n",
       "0  1960   121000   111200     636000     615600      88000      45200   \n",
       "1  1961   125700   116800     657600     637400      88800      46900   \n",
       "2  1962   129300   121000     676500     656500      89000      48100   \n",
       "3  1963   132000   125200     694200     675100      87900      49500   \n",
       "4  1964   136700   130300     712300     693200      87400      51000   \n",
       "\n",
       "   M-Other  F-Other  \n",
       "0    14600    14800  \n",
       "1    14400    14800  \n",
       "2    14700    15100  \n",
       "3    15200    15900  \n",
       "4    15100    15600  "
      ]
     },
     "execution_count": 7,
     "metadata": {},
     "output_type": "execute_result"
    }
   ],
   "source": [
    "df = pd.DataFrame(new_list,columns=column_name)\n",
    "df.head()"
   ]
  },
  {
   "cell_type": "markdown",
   "metadata": {},
   "source": [
    "Set variable `Year` as index."
   ]
  },
  {
   "cell_type": "code",
   "execution_count": 8,
   "metadata": {},
   "outputs": [],
   "source": [
    "df.set_index('Year', inplace=True)"
   ]
  },
  {
   "cell_type": "code",
   "execution_count": 9,
   "metadata": {},
   "outputs": [
    {
     "data": {
      "text/html": [
       "<div>\n",
       "<style scoped>\n",
       "    .dataframe tbody tr th:only-of-type {\n",
       "        vertical-align: middle;\n",
       "    }\n",
       "\n",
       "    .dataframe tbody tr th {\n",
       "        vertical-align: top;\n",
       "    }\n",
       "\n",
       "    .dataframe thead th {\n",
       "        text-align: right;\n",
       "    }\n",
       "</style>\n",
       "<table border=\"1\" class=\"dataframe\">\n",
       "  <thead>\n",
       "    <tr style=\"text-align: right;\">\n",
       "      <th></th>\n",
       "      <th>M-Malay</th>\n",
       "      <th>F-Malay</th>\n",
       "      <th>M-Chinese</th>\n",
       "      <th>F-Chinese</th>\n",
       "      <th>M-Indians</th>\n",
       "      <th>F-Indians</th>\n",
       "      <th>M-Other</th>\n",
       "      <th>F-Other</th>\n",
       "    </tr>\n",
       "    <tr>\n",
       "      <th>Year</th>\n",
       "      <th></th>\n",
       "      <th></th>\n",
       "      <th></th>\n",
       "      <th></th>\n",
       "      <th></th>\n",
       "      <th></th>\n",
       "      <th></th>\n",
       "      <th></th>\n",
       "    </tr>\n",
       "  </thead>\n",
       "  <tbody>\n",
       "    <tr>\n",
       "      <th>1960</th>\n",
       "      <td>121000</td>\n",
       "      <td>111200</td>\n",
       "      <td>636000</td>\n",
       "      <td>615600</td>\n",
       "      <td>88000</td>\n",
       "      <td>45200</td>\n",
       "      <td>14600</td>\n",
       "      <td>14800</td>\n",
       "    </tr>\n",
       "    <tr>\n",
       "      <th>1961</th>\n",
       "      <td>125700</td>\n",
       "      <td>116800</td>\n",
       "      <td>657600</td>\n",
       "      <td>637400</td>\n",
       "      <td>88800</td>\n",
       "      <td>46900</td>\n",
       "      <td>14400</td>\n",
       "      <td>14800</td>\n",
       "    </tr>\n",
       "    <tr>\n",
       "      <th>1962</th>\n",
       "      <td>129300</td>\n",
       "      <td>121000</td>\n",
       "      <td>676500</td>\n",
       "      <td>656500</td>\n",
       "      <td>89000</td>\n",
       "      <td>48100</td>\n",
       "      <td>14700</td>\n",
       "      <td>15100</td>\n",
       "    </tr>\n",
       "    <tr>\n",
       "      <th>1963</th>\n",
       "      <td>132000</td>\n",
       "      <td>125200</td>\n",
       "      <td>694200</td>\n",
       "      <td>675100</td>\n",
       "      <td>87900</td>\n",
       "      <td>49500</td>\n",
       "      <td>15200</td>\n",
       "      <td>15900</td>\n",
       "    </tr>\n",
       "    <tr>\n",
       "      <th>1964</th>\n",
       "      <td>136700</td>\n",
       "      <td>130300</td>\n",
       "      <td>712300</td>\n",
       "      <td>693200</td>\n",
       "      <td>87400</td>\n",
       "      <td>51000</td>\n",
       "      <td>15100</td>\n",
       "      <td>15600</td>\n",
       "    </tr>\n",
       "  </tbody>\n",
       "</table>\n",
       "</div>"
      ],
      "text/plain": [
       "      M-Malay  F-Malay  M-Chinese  F-Chinese  M-Indians  F-Indians  M-Other  \\\n",
       "Year                                                                          \n",
       "1960   121000   111200     636000     615600      88000      45200    14600   \n",
       "1961   125700   116800     657600     637400      88800      46900    14400   \n",
       "1962   129300   121000     676500     656500      89000      48100    14700   \n",
       "1963   132000   125200     694200     675100      87900      49500    15200   \n",
       "1964   136700   130300     712300     693200      87400      51000    15100   \n",
       "\n",
       "      F-Other  \n",
       "Year           \n",
       "1960    14800  \n",
       "1961    14800  \n",
       "1962    15100  \n",
       "1963    15900  \n",
       "1964    15600  "
      ]
     },
     "execution_count": 9,
     "metadata": {},
     "output_type": "execute_result"
    }
   ],
   "source": [
    "df.head()"
   ]
  },
  {
   "cell_type": "markdown",
   "metadata": {},
   "source": [
    "This restructured data frame is what the question wants. But, we can further restructure this dataframe by making columns `Gender`, `Ethnicity`, and `Population`."
   ]
  },
  {
   "cell_type": "markdown",
   "metadata": {},
   "source": [
    "Notice that the indexings were mixed up after we removed some of the rows earlier."
   ]
  },
  {
   "cell_type": "code",
   "execution_count": 10,
   "metadata": {},
   "outputs": [
    {
     "data": {
      "text/html": [
       "<div>\n",
       "<style scoped>\n",
       "    .dataframe tbody tr th:only-of-type {\n",
       "        vertical-align: middle;\n",
       "    }\n",
       "\n",
       "    .dataframe tbody tr th {\n",
       "        vertical-align: top;\n",
       "    }\n",
       "\n",
       "    .dataframe thead th {\n",
       "        text-align: right;\n",
       "    }\n",
       "</style>\n",
       "<table border=\"1\" class=\"dataframe\">\n",
       "  <thead>\n",
       "    <tr style=\"text-align: right;\">\n",
       "      <th></th>\n",
       "      <th>year</th>\n",
       "      <th>level_1</th>\n",
       "      <th>value</th>\n",
       "    </tr>\n",
       "  </thead>\n",
       "  <tbody>\n",
       "    <tr>\n",
       "      <th>0</th>\n",
       "      <td>1960</td>\n",
       "      <td>Total Male Malays</td>\n",
       "      <td>121000</td>\n",
       "    </tr>\n",
       "    <tr>\n",
       "      <th>1</th>\n",
       "      <td>1960</td>\n",
       "      <td>Total Female Malays</td>\n",
       "      <td>111200</td>\n",
       "    </tr>\n",
       "    <tr>\n",
       "      <th>2</th>\n",
       "      <td>1960</td>\n",
       "      <td>Total Male Chinese</td>\n",
       "      <td>636000</td>\n",
       "    </tr>\n",
       "    <tr>\n",
       "      <th>3</th>\n",
       "      <td>1960</td>\n",
       "      <td>Total Female Chinese</td>\n",
       "      <td>615600</td>\n",
       "    </tr>\n",
       "    <tr>\n",
       "      <th>4</th>\n",
       "      <td>1960</td>\n",
       "      <td>Total Male Indians</td>\n",
       "      <td>88000</td>\n",
       "    </tr>\n",
       "    <tr>\n",
       "      <th>5</th>\n",
       "      <td>1960</td>\n",
       "      <td>Total Female Indians</td>\n",
       "      <td>45200</td>\n",
       "    </tr>\n",
       "    <tr>\n",
       "      <th>6</th>\n",
       "      <td>1960</td>\n",
       "      <td>Other Ethnic Groups (Males)</td>\n",
       "      <td>14600</td>\n",
       "    </tr>\n",
       "    <tr>\n",
       "      <th>7</th>\n",
       "      <td>1960</td>\n",
       "      <td>Other Ethnic Groups (Females)</td>\n",
       "      <td>14800</td>\n",
       "    </tr>\n",
       "    <tr>\n",
       "      <th>8</th>\n",
       "      <td>1961</td>\n",
       "      <td>Total Male Malays</td>\n",
       "      <td>125700</td>\n",
       "    </tr>\n",
       "    <tr>\n",
       "      <th>9</th>\n",
       "      <td>1961</td>\n",
       "      <td>Total Female Malays</td>\n",
       "      <td>116800</td>\n",
       "    </tr>\n",
       "  </tbody>\n",
       "</table>\n",
       "</div>"
      ],
      "text/plain": [
       "   year                        level_1   value\n",
       "0  1960              Total Male Malays  121000\n",
       "1  1960            Total Female Malays  111200\n",
       "2  1960             Total Male Chinese  636000\n",
       "3  1960           Total Female Chinese  615600\n",
       "4  1960             Total Male Indians   88000\n",
       "5  1960           Total Female Indians   45200\n",
       "6  1960    Other Ethnic Groups (Males)   14600\n",
       "7  1960  Other Ethnic Groups (Females)   14800\n",
       "8  1961              Total Male Malays  125700\n",
       "9  1961            Total Female Malays  116800"
      ]
     },
     "execution_count": 10,
     "metadata": {},
     "output_type": "execute_result"
    }
   ],
   "source": [
    "raw_2 = raw_1.copy()\n",
    "raw_2.reset_index(drop=True,inplace=True)\n",
    "raw_2[:10]"
   ]
  },
  {
   "cell_type": "markdown",
   "metadata": {},
   "source": [
    "We need to create the two new columns `ethnic` and `gender`."
   ]
  },
  {
   "cell_type": "code",
   "execution_count": 11,
   "metadata": {},
   "outputs": [
    {
     "data": {
      "text/html": [
       "<div>\n",
       "<style scoped>\n",
       "    .dataframe tbody tr th:only-of-type {\n",
       "        vertical-align: middle;\n",
       "    }\n",
       "\n",
       "    .dataframe tbody tr th {\n",
       "        vertical-align: top;\n",
       "    }\n",
       "\n",
       "    .dataframe thead th {\n",
       "        text-align: right;\n",
       "    }\n",
       "</style>\n",
       "<table border=\"1\" class=\"dataframe\">\n",
       "  <thead>\n",
       "    <tr style=\"text-align: right;\">\n",
       "      <th></th>\n",
       "      <th>year</th>\n",
       "      <th>level_1</th>\n",
       "      <th>value</th>\n",
       "      <th>ethnic</th>\n",
       "      <th>gender</th>\n",
       "    </tr>\n",
       "  </thead>\n",
       "  <tbody>\n",
       "    <tr>\n",
       "      <th>0</th>\n",
       "      <td>1960</td>\n",
       "      <td>Total Male Malays</td>\n",
       "      <td>121000</td>\n",
       "      <td>Malays</td>\n",
       "      <td>Male</td>\n",
       "    </tr>\n",
       "    <tr>\n",
       "      <th>1</th>\n",
       "      <td>1960</td>\n",
       "      <td>Total Female Malays</td>\n",
       "      <td>111200</td>\n",
       "      <td>Malays</td>\n",
       "      <td>Female</td>\n",
       "    </tr>\n",
       "    <tr>\n",
       "      <th>2</th>\n",
       "      <td>1960</td>\n",
       "      <td>Total Male Chinese</td>\n",
       "      <td>636000</td>\n",
       "      <td>Chinese</td>\n",
       "      <td>Male</td>\n",
       "    </tr>\n",
       "    <tr>\n",
       "      <th>3</th>\n",
       "      <td>1960</td>\n",
       "      <td>Total Female Chinese</td>\n",
       "      <td>615600</td>\n",
       "      <td>Chinese</td>\n",
       "      <td>Female</td>\n",
       "    </tr>\n",
       "    <tr>\n",
       "      <th>4</th>\n",
       "      <td>1960</td>\n",
       "      <td>Total Male Indians</td>\n",
       "      <td>88000</td>\n",
       "      <td>Indians</td>\n",
       "      <td>Male</td>\n",
       "    </tr>\n",
       "    <tr>\n",
       "      <th>5</th>\n",
       "      <td>1960</td>\n",
       "      <td>Total Female Indians</td>\n",
       "      <td>45200</td>\n",
       "      <td>Indians</td>\n",
       "      <td>Female</td>\n",
       "    </tr>\n",
       "    <tr>\n",
       "      <th>6</th>\n",
       "      <td>1960</td>\n",
       "      <td>Other Ethnic Groups (Males)</td>\n",
       "      <td>14600</td>\n",
       "      <td>Others</td>\n",
       "      <td>Male</td>\n",
       "    </tr>\n",
       "    <tr>\n",
       "      <th>7</th>\n",
       "      <td>1960</td>\n",
       "      <td>Other Ethnic Groups (Females)</td>\n",
       "      <td>14800</td>\n",
       "      <td>Others</td>\n",
       "      <td>Female</td>\n",
       "    </tr>\n",
       "    <tr>\n",
       "      <th>8</th>\n",
       "      <td>1961</td>\n",
       "      <td>Total Male Malays</td>\n",
       "      <td>125700</td>\n",
       "      <td>Malays</td>\n",
       "      <td>Male</td>\n",
       "    </tr>\n",
       "    <tr>\n",
       "      <th>9</th>\n",
       "      <td>1961</td>\n",
       "      <td>Total Female Malays</td>\n",
       "      <td>116800</td>\n",
       "      <td>Malays</td>\n",
       "      <td>Female</td>\n",
       "    </tr>\n",
       "  </tbody>\n",
       "</table>\n",
       "</div>"
      ],
      "text/plain": [
       "   year                        level_1   value   ethnic  gender\n",
       "0  1960              Total Male Malays  121000   Malays    Male\n",
       "1  1960            Total Female Malays  111200   Malays  Female\n",
       "2  1960             Total Male Chinese  636000  Chinese    Male\n",
       "3  1960           Total Female Chinese  615600  Chinese  Female\n",
       "4  1960             Total Male Indians   88000  Indians    Male\n",
       "5  1960           Total Female Indians   45200  Indians  Female\n",
       "6  1960    Other Ethnic Groups (Males)   14600   Others    Male\n",
       "7  1960  Other Ethnic Groups (Females)   14800   Others  Female\n",
       "8  1961              Total Male Malays  125700   Malays    Male\n",
       "9  1961            Total Female Malays  116800   Malays  Female"
      ]
     },
     "execution_count": 11,
     "metadata": {},
     "output_type": "execute_result"
    }
   ],
   "source": [
    "raw_2[\"ethnic\"] = raw_2['level_1'].map(lambda x: \"Others\" if x.find(\"Other\") != -1 else x.split()[2])\n",
    "raw_2[\"gender\"] = raw_2['level_1'].map(lambda x: \"Male\" if x.find(\"Male\") != -1 else \"Female\")\n",
    "\n",
    "raw_2[:10]"
   ]
  },
  {
   "cell_type": "markdown",
   "metadata": {},
   "source": [
    "We then need to drop `level_1` and shift column `value` to the end."
   ]
  },
  {
   "cell_type": "code",
   "execution_count": 12,
   "metadata": {},
   "outputs": [
    {
     "data": {
      "text/html": [
       "<div>\n",
       "<style scoped>\n",
       "    .dataframe tbody tr th:only-of-type {\n",
       "        vertical-align: middle;\n",
       "    }\n",
       "\n",
       "    .dataframe tbody tr th {\n",
       "        vertical-align: top;\n",
       "    }\n",
       "\n",
       "    .dataframe thead th {\n",
       "        text-align: right;\n",
       "    }\n",
       "</style>\n",
       "<table border=\"1\" class=\"dataframe\">\n",
       "  <thead>\n",
       "    <tr style=\"text-align: right;\">\n",
       "      <th></th>\n",
       "      <th>year</th>\n",
       "      <th>gender</th>\n",
       "      <th>ethnic</th>\n",
       "      <th>value</th>\n",
       "    </tr>\n",
       "  </thead>\n",
       "  <tbody>\n",
       "    <tr>\n",
       "      <th>0</th>\n",
       "      <td>1960</td>\n",
       "      <td>Male</td>\n",
       "      <td>Malays</td>\n",
       "      <td>121000</td>\n",
       "    </tr>\n",
       "    <tr>\n",
       "      <th>1</th>\n",
       "      <td>1960</td>\n",
       "      <td>Female</td>\n",
       "      <td>Malays</td>\n",
       "      <td>111200</td>\n",
       "    </tr>\n",
       "    <tr>\n",
       "      <th>2</th>\n",
       "      <td>1960</td>\n",
       "      <td>Male</td>\n",
       "      <td>Chinese</td>\n",
       "      <td>636000</td>\n",
       "    </tr>\n",
       "    <tr>\n",
       "      <th>3</th>\n",
       "      <td>1960</td>\n",
       "      <td>Female</td>\n",
       "      <td>Chinese</td>\n",
       "      <td>615600</td>\n",
       "    </tr>\n",
       "    <tr>\n",
       "      <th>4</th>\n",
       "      <td>1960</td>\n",
       "      <td>Male</td>\n",
       "      <td>Indians</td>\n",
       "      <td>88000</td>\n",
       "    </tr>\n",
       "    <tr>\n",
       "      <th>5</th>\n",
       "      <td>1960</td>\n",
       "      <td>Female</td>\n",
       "      <td>Indians</td>\n",
       "      <td>45200</td>\n",
       "    </tr>\n",
       "    <tr>\n",
       "      <th>6</th>\n",
       "      <td>1960</td>\n",
       "      <td>Male</td>\n",
       "      <td>Others</td>\n",
       "      <td>14600</td>\n",
       "    </tr>\n",
       "    <tr>\n",
       "      <th>7</th>\n",
       "      <td>1960</td>\n",
       "      <td>Female</td>\n",
       "      <td>Others</td>\n",
       "      <td>14800</td>\n",
       "    </tr>\n",
       "    <tr>\n",
       "      <th>8</th>\n",
       "      <td>1961</td>\n",
       "      <td>Male</td>\n",
       "      <td>Malays</td>\n",
       "      <td>125700</td>\n",
       "    </tr>\n",
       "    <tr>\n",
       "      <th>9</th>\n",
       "      <td>1961</td>\n",
       "      <td>Female</td>\n",
       "      <td>Malays</td>\n",
       "      <td>116800</td>\n",
       "    </tr>\n",
       "  </tbody>\n",
       "</table>\n",
       "</div>"
      ],
      "text/plain": [
       "   year  gender   ethnic   value\n",
       "0  1960    Male   Malays  121000\n",
       "1  1960  Female   Malays  111200\n",
       "2  1960    Male  Chinese  636000\n",
       "3  1960  Female  Chinese  615600\n",
       "4  1960    Male  Indians   88000\n",
       "5  1960  Female  Indians   45200\n",
       "6  1960    Male   Others   14600\n",
       "7  1960  Female   Others   14800\n",
       "8  1961    Male   Malays  125700\n",
       "9  1961  Female   Malays  116800"
      ]
     },
     "execution_count": 12,
     "metadata": {},
     "output_type": "execute_result"
    }
   ],
   "source": [
    "#dropping column\n",
    "raw_2.drop(['level_1'], axis=1,inplace=True)\n",
    "\n",
    "#switching column position\n",
    "col_list = list(raw_2)\n",
    "col_list[3],col_list[1] = col_list[1],col_list[3]\n",
    "raw_2 = raw_2.reindex(columns = col_list)\n",
    "raw_2[:10]"
   ]
  },
  {
   "cell_type": "code",
   "execution_count": 13,
   "metadata": {},
   "outputs": [],
   "source": [
    "df_2 = raw_2.copy()\n",
    "# df_2.set_index('year',inplace=True)"
   ]
  },
  {
   "cell_type": "markdown",
   "metadata": {},
   "source": [
    "Data look much neater. To analyze this dataframe, we need to use **groupby** unlike the previous dataframe `df`."
   ]
  },
  {
   "cell_type": "markdown",
   "metadata": {},
   "source": [
    "# B. Data Analysis"
   ]
  },
  {
   "cell_type": "markdown",
   "metadata": {},
   "source": [
    "### 1. At what rate does singapore population is increasing?\n",
    "\n",
    "For this question we might need to plot the historical population trend using matplotlib or seaborn."
   ]
  },
  {
   "cell_type": "code",
   "execution_count": 14,
   "metadata": {},
   "outputs": [
    {
     "data": {
      "text/html": [
       "<div>\n",
       "<style scoped>\n",
       "    .dataframe tbody tr th:only-of-type {\n",
       "        vertical-align: middle;\n",
       "    }\n",
       "\n",
       "    .dataframe tbody tr th {\n",
       "        vertical-align: top;\n",
       "    }\n",
       "\n",
       "    .dataframe thead th {\n",
       "        text-align: right;\n",
       "    }\n",
       "</style>\n",
       "<table border=\"1\" class=\"dataframe\">\n",
       "  <thead>\n",
       "    <tr style=\"text-align: right;\">\n",
       "      <th></th>\n",
       "      <th>M-Malay</th>\n",
       "      <th>F-Malay</th>\n",
       "      <th>M-Chinese</th>\n",
       "      <th>F-Chinese</th>\n",
       "      <th>M-Indians</th>\n",
       "      <th>F-Indians</th>\n",
       "      <th>M-Other</th>\n",
       "      <th>F-Other</th>\n",
       "      <th>Total</th>\n",
       "    </tr>\n",
       "    <tr>\n",
       "      <th>Year</th>\n",
       "      <th></th>\n",
       "      <th></th>\n",
       "      <th></th>\n",
       "      <th></th>\n",
       "      <th></th>\n",
       "      <th></th>\n",
       "      <th></th>\n",
       "      <th></th>\n",
       "      <th></th>\n",
       "    </tr>\n",
       "  </thead>\n",
       "  <tbody>\n",
       "    <tr>\n",
       "      <th>1960</th>\n",
       "      <td>121000</td>\n",
       "      <td>111200</td>\n",
       "      <td>636000</td>\n",
       "      <td>615600</td>\n",
       "      <td>88000</td>\n",
       "      <td>45200</td>\n",
       "      <td>14600</td>\n",
       "      <td>14800</td>\n",
       "      <td>1646400</td>\n",
       "    </tr>\n",
       "    <tr>\n",
       "      <th>1961</th>\n",
       "      <td>125700</td>\n",
       "      <td>116800</td>\n",
       "      <td>657600</td>\n",
       "      <td>637400</td>\n",
       "      <td>88800</td>\n",
       "      <td>46900</td>\n",
       "      <td>14400</td>\n",
       "      <td>14800</td>\n",
       "      <td>1702400</td>\n",
       "    </tr>\n",
       "    <tr>\n",
       "      <th>1962</th>\n",
       "      <td>129300</td>\n",
       "      <td>121000</td>\n",
       "      <td>676500</td>\n",
       "      <td>656500</td>\n",
       "      <td>89000</td>\n",
       "      <td>48100</td>\n",
       "      <td>14700</td>\n",
       "      <td>15100</td>\n",
       "      <td>1750200</td>\n",
       "    </tr>\n",
       "    <tr>\n",
       "      <th>1963</th>\n",
       "      <td>132000</td>\n",
       "      <td>125200</td>\n",
       "      <td>694200</td>\n",
       "      <td>675100</td>\n",
       "      <td>87900</td>\n",
       "      <td>49500</td>\n",
       "      <td>15200</td>\n",
       "      <td>15900</td>\n",
       "      <td>1795000</td>\n",
       "    </tr>\n",
       "    <tr>\n",
       "      <th>1964</th>\n",
       "      <td>136700</td>\n",
       "      <td>130300</td>\n",
       "      <td>712300</td>\n",
       "      <td>693200</td>\n",
       "      <td>87400</td>\n",
       "      <td>51000</td>\n",
       "      <td>15100</td>\n",
       "      <td>15600</td>\n",
       "      <td>1841600</td>\n",
       "    </tr>\n",
       "  </tbody>\n",
       "</table>\n",
       "</div>"
      ],
      "text/plain": [
       "      M-Malay  F-Malay  M-Chinese  F-Chinese  M-Indians  F-Indians  M-Other  \\\n",
       "Year                                                                          \n",
       "1960   121000   111200     636000     615600      88000      45200    14600   \n",
       "1961   125700   116800     657600     637400      88800      46900    14400   \n",
       "1962   129300   121000     676500     656500      89000      48100    14700   \n",
       "1963   132000   125200     694200     675100      87900      49500    15200   \n",
       "1964   136700   130300     712300     693200      87400      51000    15100   \n",
       "\n",
       "      F-Other    Total  \n",
       "Year                    \n",
       "1960    14800  1646400  \n",
       "1961    14800  1702400  \n",
       "1962    15100  1750200  \n",
       "1963    15900  1795000  \n",
       "1964    15600  1841600  "
      ]
     },
     "execution_count": 14,
     "metadata": {},
     "output_type": "execute_result"
    }
   ],
   "source": [
    "#Since the question asked for singapore total population, I was confused why Abhisek asked me to remove that variable.\n",
    "# We are going to sum every columns back to get the total poopulation column\n",
    "\n",
    "df[\"Total\"] = 0 #Initialize this column with zeros\n",
    "\n",
    "for column_name in df.columns[:-1]:\n",
    "    df[\"Total\"] = df[\"Total\"] + df[column_name]\n",
    "\n",
    "df.head()"
   ]
  },
  {
   "cell_type": "markdown",
   "metadata": {},
   "source": [
    "Do note that the Matplotlib code below still not fully refined. For the purpose of basic visualization, we don't really emphasize on stylings of the graph. We can also use tableau for better visualization."
   ]
  },
  {
   "cell_type": "code",
   "execution_count": 15,
   "metadata": {},
   "outputs": [
    {
     "data": {
      "image/png": "[encoded data removed]",
      "text/plain": [
       "<Figure size 576x432 with 1 Axes>"
      ]
     },
     "metadata": {
      "needs_background": "light"
     },
     "output_type": "display_data"
    }
   ],
   "source": [
    "f, ax = plt.subplots(figsize=(8,6))\n",
    "plt.scatter(df.index,df[\"Total\"])\n",
    "ax.set_title('Singapore Population Growth')\n",
    "ax.set_xlabel(\"Year\")\n",
    "ax.set_ylabel(\"Number of Population\")\n",
    "plt.show()\n",
    "\n",
    "# #add gridlines\n",
    "# from matplotlib.ticker import MultipleLocator\n",
    "\n",
    "# ax.grid()\n",
    "# spacing = 2 #every year\n",
    "# minorLocator_1 = MultipleLocator(spacing)\n",
    "# minorLocator_2 = MultipleLocator(250000)\n",
    "# # Set minor tick locations.\n",
    "# ax.xaxis.set_minor_locator(minorLocator_1)\n",
    "# ax.yaxis.set_minor_locator(minorLocator_2)\n",
    "# # Set grid to use minor tick locations. \n",
    "# ax.grid(which = 'minor')\n"
   ]
  },
  {
   "cell_type": "markdown",
   "metadata": {},
   "source": [
    "#### Linear Regression using Scikit-Learn\n",
    "\n",
    "Scikit-Learn (`sklearn`) will be our de-facto Machine Learning library in Python.   \n",
    "Import the `LinearRegression` model from `sklearn.linear_model`."
   ]
  },
  {
   "cell_type": "code",
   "execution_count": 16,
   "metadata": {},
   "outputs": [
    {
     "name": "stdout",
     "output_type": "stream",
     "text": [
      "Intercept \t: b =  -79150662.53483345\n",
      "Coefficients \t: a =  [41200.21969608]\n"
     ]
    }
   ],
   "source": [
    "# Import LinearRegression model from Scikit-Learn\n",
    "from sklearn.linear_model import LinearRegression\n",
    "\n",
    "# Create a Linear Regression object\n",
    "all_model = LinearRegression()\n",
    "# Train the Linear Regression model\n",
    "all_model.fit(np.array(df.index).reshape((-1,1)), df[\"Total\"]) #note that reshaping of index array is necessary\n",
    "\n",
    "# Coefficients of the Linear Regression line\n",
    "print('Intercept \\t: b = ', all_model.intercept_)\n",
    "print('Coefficients \\t: a = ', all_model.coef_)"
   ]
  },
  {
   "cell_type": "markdown",
   "metadata": {},
   "source": [
    "##### Under linear growth assumption, Singapore's population is growing at a rate of 41.2k people per year.\n",
    "\n",
    "Now let's plot the trendline into the same plot we created above."
   ]
  },
  {
   "cell_type": "code",
   "execution_count": 17,
   "metadata": {},
   "outputs": [
    {
     "data": {
      "image/png": "[encoded data removed]",
      "text/plain": [
       "<Figure size 576x432 with 1 Axes>"
      ]
     },
     "metadata": {
      "needs_background": "light"
     },
     "output_type": "display_data"
    }
   ],
   "source": [
    "population_pred = all_model.predict(np.array(df.index).reshape((-1,1)))\n",
    "\n",
    "# Plot the Predictions\n",
    "f, ax = plt.subplots(1, 1, figsize=(8,6))\n",
    "ax.annotate('+ 41,200 people/year',xy=(1970,3000000))\n",
    "plt.scatter(df.index,df[\"Total\"]) \n",
    "ax.plot(df.index, population_pred, color = \"red\")\n",
    "ax.set_title('Singapore Population Growth')\n",
    "ax.set_xlabel(\"Year\")\n",
    "ax.set_ylabel(\"Number of Population\")\n",
    "\n",
    "plt.show()"
   ]
  },
  {
   "cell_type": "markdown",
   "metadata": {},
   "source": [
    "### 2. Which Ethnic Group has the highest representation in Singapore?\n",
    "\n",
    "Sum all the population from each ethnic group."
   ]
  },
  {
   "cell_type": "code",
   "execution_count": 18,
   "metadata": {},
   "outputs": [
    {
     "data": {
      "text/plain": [
       "F-Chinese    63112372\n",
       "M-Chinese    62671373\n",
       "M-Malay      11702782\n",
       "F-Malay      11446983\n",
       "M-Indians     6970639\n",
       "F-Indians     5866098\n",
       "F-Other       1668893\n",
       "M-Other       1558752\n",
       "dtype: int64"
      ]
     },
     "execution_count": 18,
     "metadata": {},
     "output_type": "execute_result"
    }
   ],
   "source": [
    "df.loc[df.index].sum()[:-1].sort_values(ascending=False)"
   ]
  },
  {
   "cell_type": "markdown",
   "metadata": {},
   "source": [
    "Without even adding the number of male and female from each ethnic groups, we can simply say that the number of population based on ethnic groups is in the following order: `Chinese` > `Malays` > `Indians` > `Others`"
   ]
  },
  {
   "cell_type": "markdown",
   "metadata": {},
   "source": [
    "### 3. In the last 10 years which ethnic group has shown highest increment in population?\n",
    "\n",
    "Let's use both dataframe `df` and `df_2` to calculate the difference of population in 2009 and 2018 (10 year) for each ethnic groups."
   ]
  },
  {
   "cell_type": "code",
   "execution_count": 19,
   "metadata": {},
   "outputs": [
    {
     "name": "stdout",
     "output_type": "stream",
     "text": [
      "[17371, 18402, 85151, 113827, 6367, 10652, 2217, 6420]\n",
      "[35773, 198978, 17019, 8637]\n"
     ]
    }
   ],
   "source": [
    "#Using df\n",
    "sub_list = []\n",
    "for x,y in zip(list(df.loc[2018])[:-1],list(df.loc[2009])[:-1]):  #exclude the total column\n",
    "    sub_list.append(x-y)\n",
    "    \n",
    "#We need to add male and female for each ethnic groups\n",
    "final_list = []\n",
    "for count in range(0,len(sub_list),2):\n",
    "    final_list.append(sub_list[count]+sub_list[count+1])\n",
    "    \n",
    "print(sub_list)\n",
    "print(final_list)"
   ]
  },
  {
   "cell_type": "code",
   "execution_count": 20,
   "metadata": {},
   "outputs": [
    {
     "data": {
      "text/plain": [
       "[35773, 198978, 17019, 8637]"
      ]
     },
     "execution_count": 20,
     "metadata": {},
     "output_type": "execute_result"
    }
   ],
   "source": [
    "final_list"
   ]
  },
  {
   "cell_type": "code",
   "execution_count": 21,
   "metadata": {},
   "outputs": [
    {
     "data": {
      "text/html": [
       "<div>\n",
       "<style scoped>\n",
       "    .dataframe tbody tr th:only-of-type {\n",
       "        vertical-align: middle;\n",
       "    }\n",
       "\n",
       "    .dataframe tbody tr th {\n",
       "        vertical-align: top;\n",
       "    }\n",
       "\n",
       "    .dataframe thead th {\n",
       "        text-align: right;\n",
       "    }\n",
       "</style>\n",
       "<table border=\"1\" class=\"dataframe\">\n",
       "  <thead>\n",
       "    <tr style=\"text-align: right;\">\n",
       "      <th></th>\n",
       "      <th>Malays</th>\n",
       "      <th>Chinese</th>\n",
       "      <th>Indians</th>\n",
       "      <th>Other</th>\n",
       "    </tr>\n",
       "  </thead>\n",
       "  <tbody>\n",
       "    <tr>\n",
       "      <th>0</th>\n",
       "      <td>35773</td>\n",
       "      <td>198978</td>\n",
       "      <td>17019</td>\n",
       "      <td>8637</td>\n",
       "    </tr>\n",
       "  </tbody>\n",
       "</table>\n",
       "</div>"
      ],
      "text/plain": [
       "   Malays  Chinese  Indians  Other\n",
       "0   35773   198978    17019   8637"
      ]
     },
     "execution_count": 21,
     "metadata": {},
     "output_type": "execute_result"
    }
   ],
   "source": [
    "temp = pd.DataFrame([final_list], columns = ['Malays','Chinese','Indians','Other'])\n",
    "temp"
   ]
  },
  {
   "cell_type": "markdown",
   "metadata": {},
   "source": [
    "Chinese ethnic group shown the highest increment in population in the last 10 years."
   ]
  },
  {
   "cell_type": "code",
   "execution_count": 22,
   "metadata": {},
   "outputs": [
    {
     "data": {
      "text/html": [
       "<div>\n",
       "<style scoped>\n",
       "    .dataframe tbody tr th:only-of-type {\n",
       "        vertical-align: middle;\n",
       "    }\n",
       "\n",
       "    .dataframe tbody tr th {\n",
       "        vertical-align: top;\n",
       "    }\n",
       "\n",
       "    .dataframe thead th {\n",
       "        text-align: right;\n",
       "    }\n",
       "</style>\n",
       "<table border=\"1\" class=\"dataframe\">\n",
       "  <thead>\n",
       "    <tr style=\"text-align: right;\">\n",
       "      <th></th>\n",
       "      <th>Chinese</th>\n",
       "      <th>Malays</th>\n",
       "      <th>Indians</th>\n",
       "      <th>Other</th>\n",
       "    </tr>\n",
       "  </thead>\n",
       "  <tbody>\n",
       "    <tr>\n",
       "      <th>0</th>\n",
       "      <td>198978</td>\n",
       "      <td>17019</td>\n",
       "      <td>35773</td>\n",
       "      <td>8637</td>\n",
       "    </tr>\n",
       "  </tbody>\n",
       "</table>\n",
       "</div>"
      ],
      "text/plain": [
       "   Chinese  Malays  Indians  Other\n",
       "0   198978   17019    35773   8637"
      ]
     },
     "execution_count": 22,
     "metadata": {},
     "output_type": "execute_result"
    }
   ],
   "source": [
    "#Using df_2\n",
    "temp = df_2.groupby(['year','ethnic'])['value'].agg('sum')\n",
    "\n",
    "sub_list = []\n",
    "for x,y in zip(list(temp.loc[2018]),list(temp.loc[2009])):  #exclude the total column\n",
    "    sub_list.append(x-y)\n",
    "    \n",
    "#NOTE we don't need to add male and female since we have performed groupby earlier\n",
    "\n",
    "temp = pd.DataFrame([sub_list], columns = ['Chinese','Malays','Indians','Other'])\n",
    "temp"
   ]
  },
  {
   "cell_type": "code",
   "execution_count": 23,
   "metadata": {},
   "outputs": [],
   "source": [
    "#Reminder sample shopee assessment.\n",
    "# temp = df_2.groupby(['year'])['value'].agg('sum')\n",
    "# temp = pd.DataFrame(temp)\n",
    "# temp.reset_index(inplace=True)\n",
    "# temp['year'].iloc[temp.value.argmax()]"
   ]
  },
  {
   "cell_type": "markdown",
   "metadata": {},
   "source": [
    "We actually get similar results with the one we did before."
   ]
  },
  {
   "cell_type": "markdown",
   "metadata": {},
   "source": [
    "### 4. In which years female population was higher than male population?\n",
    "\n",
    "For this case we will use `df_2` and **groupby** for easier analysis."
   ]
  },
  {
   "cell_type": "code",
   "execution_count": 24,
   "metadata": {},
   "outputs": [
    {
     "data": {
      "text/plain": [
       "year  gender\n",
       "1960  Female    786800\n",
       "      Male      859600\n",
       "1961  Female    815900\n",
       "      Male      886500\n",
       "1962  Female    840700\n",
       "      Male      909500\n",
       "1963  Female    865700\n",
       "      Male      929300\n",
       "1964  Female    890100\n",
       "      Male      951500\n",
       "Name: value, dtype: int64"
      ]
     },
     "execution_count": 24,
     "metadata": {},
     "output_type": "execute_result"
    }
   ],
   "source": [
    "temp = df_2.groupby(['year','gender'])['value'].agg('sum')\n",
    "temp[:10]"
   ]
  },
  {
   "cell_type": "code",
   "execution_count": 25,
   "metadata": {},
   "outputs": [
    {
     "name": "stdout",
     "output_type": "stream",
     "text": [
      "[1999, 2000, 2001, 2002, 2003, 2004, 2005, 2006, 2007, 2008, 2009, 2010, 2011, 2012, 2013, 2014, 2015, 2016, 2017, 2018]\n",
      "count = 20\n"
     ]
    }
   ],
   "source": [
    "year_list = []\n",
    "for year in range(1960,2019):\n",
    "    if temp.loc[year,'Female'] > temp.loc[year,'Male']:\n",
    "        year_list.append(year)\n",
    "print(year_list)\n",
    "print(\"count =\",len(year_list))"
   ]
  },
  {
   "cell_type": "markdown",
   "metadata": {},
   "source": [
    "It seems that female population started to lead from 1999 onwards."
   ]
  },
  {
   "cell_type": "code",
   "execution_count": 26,
   "metadata": {},
   "outputs": [
    {
     "data": {
      "text/plain": [
       "year  gender\n",
       "1999  Female    1614878\n",
       "      Male      1614805\n",
       "2000  Female    1638696\n",
       "      Male      1634667\n",
       "2001  Female    1667344\n",
       "      Male      1658558\n",
       "Name: value, dtype: int64"
      ]
     },
     "execution_count": 26,
     "metadata": {},
     "output_type": "execute_result"
    }
   ],
   "source": [
    "temp.loc[year_list][:6]"
   ]
  },
  {
   "cell_type": "markdown",
   "metadata": {},
   "source": [
    "### 5. What is the trend of past 10 years in male and female population?"
   ]
  },
  {
   "cell_type": "code",
   "execution_count": 27,
   "metadata": {},
   "outputs": [],
   "source": [
    "temp = df_2.groupby(['year','gender'])['value'].agg('sum')\n",
    "temp = pd.DataFrame(temp)\n",
    "temp.reset_index(inplace=True)\n",
    "# temp = temp[temp.year>2008]\n",
    "\n",
    "year_list = temp.year.unique()\n",
    "y_female = list(temp[temp.gender==\"Female\"][\"value\"])\n",
    "y_male = list(temp[temp.gender==\"Male\"][\"value\"])"
   ]
  },
  {
   "cell_type": "markdown",
   "metadata": {},
   "source": [
    "We need to make a line chart consisting of both `male` and `female` trends against `year`. "
   ]
  },
  {
   "cell_type": "code",
   "execution_count": 28,
   "metadata": {},
   "outputs": [
    {
     "data": {
      "text/plain": [
       "Text(0, 0.5, 'Number of Population')"
      ]
     },
     "execution_count": 28,
     "metadata": {},
     "output_type": "execute_result"
    },
    {
     "data": {
      "image/png": "[encoded data removed]",
      "text/plain": [
       "<Figure size 576x432 with 1 Axes>"
      ]
     },
     "metadata": {
      "needs_background": "light"
     },
     "output_type": "display_data"
    }
   ],
   "source": [
    "f, ax = plt.subplots(1, 1, figsize=(8,6))\n",
    "ax.plot(year_list,y_female,color=\"red\") \n",
    "ax.plot(year_list, y_male, color =\"blue\")\n",
    "ax.set_title('Singapore Population Growth')\n",
    "ax.set_xlabel(\"Year\")\n",
    "ax.set_ylabel(\"Number of Population\")"
   ]
  },
  {
   "cell_type": "markdown",
   "metadata": {},
   "source": [
    "### 6. What is the trend of China and India population?"
   ]
  },
  {
   "cell_type": "code",
   "execution_count": 29,
   "metadata": {},
   "outputs": [],
   "source": [
    "temp = df_2.groupby(['year','ethnic'])['value'].agg('sum')\n",
    "temp = pd.DataFrame(temp)\n",
    "temp.reset_index(inplace=True)\n",
    "\n",
    "year_list = temp.year.unique()\n",
    "y_china = list(temp[temp.ethnic==\"Chinese\"][\"value\"])\n",
    "y_india = list(temp[temp.ethnic==\"Indians\"][\"value\"])"
   ]
  },
  {
   "cell_type": "code",
   "execution_count": 30,
   "metadata": {},
   "outputs": [
    {
     "data": {
      "text/plain": [
       "Text(0, 0.5, 'Number of Population')"
      ]
     },
     "execution_count": 30,
     "metadata": {},
     "output_type": "execute_result"
    },
    {
     "data": {
      "image/png": "[encoded data removed]",
      "text/plain": [
       "<Figure size 576x432 with 1 Axes>"
      ]
     },
     "metadata": {
      "needs_background": "light"
     },
     "output_type": "display_data"
    }
   ],
   "source": [
    "f, ax = plt.subplots(1, 1, figsize=(8,6))\n",
    "ax.plot(year_list,y_china,color=\"red\") \n",
    "ax.plot(year_list, y_india, color =\"green\")\n",
    "ax.set_title('Singapore Population Growth')\n",
    "ax.set_xlabel(\"Year\")\n",
    "ax.set_ylabel(\"Number of Population\")"
   ]
  },
  {
   "cell_type": "markdown",
   "metadata": {},
   "source": [
    "### 7. What is the average increase in Chinese population?\n",
    "\n",
    "This question is similar to our first question. Yet we need to obtain the sum of population for both Male and Female Chinese."
   ]
  },
  {
   "cell_type": "code",
   "execution_count": 31,
   "metadata": {},
   "outputs": [
    {
     "data": {
      "text/html": [
       "<div>\n",
       "<style scoped>\n",
       "    .dataframe tbody tr th:only-of-type {\n",
       "        vertical-align: middle;\n",
       "    }\n",
       "\n",
       "    .dataframe tbody tr th {\n",
       "        vertical-align: top;\n",
       "    }\n",
       "\n",
       "    .dataframe thead th {\n",
       "        text-align: right;\n",
       "    }\n",
       "</style>\n",
       "<table border=\"1\" class=\"dataframe\">\n",
       "  <thead>\n",
       "    <tr style=\"text-align: right;\">\n",
       "      <th></th>\n",
       "      <th>year</th>\n",
       "      <th>ethnic</th>\n",
       "      <th>value</th>\n",
       "    </tr>\n",
       "  </thead>\n",
       "  <tbody>\n",
       "    <tr>\n",
       "      <th>0</th>\n",
       "      <td>1960</td>\n",
       "      <td>Chinese</td>\n",
       "      <td>1251600</td>\n",
       "    </tr>\n",
       "    <tr>\n",
       "      <th>4</th>\n",
       "      <td>1961</td>\n",
       "      <td>Chinese</td>\n",
       "      <td>1295000</td>\n",
       "    </tr>\n",
       "    <tr>\n",
       "      <th>8</th>\n",
       "      <td>1962</td>\n",
       "      <td>Chinese</td>\n",
       "      <td>1333000</td>\n",
       "    </tr>\n",
       "    <tr>\n",
       "      <th>12</th>\n",
       "      <td>1963</td>\n",
       "      <td>Chinese</td>\n",
       "      <td>1369300</td>\n",
       "    </tr>\n",
       "    <tr>\n",
       "      <th>16</th>\n",
       "      <td>1964</td>\n",
       "      <td>Chinese</td>\n",
       "      <td>1405500</td>\n",
       "    </tr>\n",
       "  </tbody>\n",
       "</table>\n",
       "</div>"
      ],
      "text/plain": [
       "    year   ethnic    value\n",
       "0   1960  Chinese  1251600\n",
       "4   1961  Chinese  1295000\n",
       "8   1962  Chinese  1333000\n",
       "12  1963  Chinese  1369300\n",
       "16  1964  Chinese  1405500"
      ]
     },
     "execution_count": 31,
     "metadata": {},
     "output_type": "execute_result"
    }
   ],
   "source": [
    "#Aggregating dataframe on year and ethnic\n",
    "\n",
    "temp = df_2.groupby(['year','ethnic'])['value'].agg('sum')\n",
    "temp = pd.DataFrame(temp)\n",
    "temp.reset_index(inplace=True)\n",
    "temp = temp[temp.ethnic == \"Chinese\"]\n",
    "temp.head()\n"
   ]
  },
  {
   "cell_type": "code",
   "execution_count": 32,
   "metadata": {},
   "outputs": [
    {
     "name": "stdout",
     "output_type": "stream",
     "text": [
      "Intercept \t: b =  -57747489.52285214\n",
      "Coefficients \t: a =  [30105.28778492]\n"
     ]
    }
   ],
   "source": [
    "# We perform linear regression again\n",
    "# Import LinearRegression model from Scikit-Learn\n",
    "from sklearn.linear_model import LinearRegression\n",
    "\n",
    "# Create a Linear Regression object\n",
    "c_model = LinearRegression()\n",
    "# Train the Linear Regression model\n",
    "c_model.fit(np.array(temp.year).reshape((-1,1)), temp.value) #need to reshape index for x array because of having only one variable a.k.a 1D array\n",
    "\n",
    "# Coefficients of the Linear Regression line\n",
    "print('Intercept \\t: b = ', c_model.intercept_)\n",
    "print('Coefficients \\t: a = ', c_model.coef_)"
   ]
  },
  {
   "cell_type": "markdown",
   "metadata": {},
   "source": [
    "The Chinese population is growing at an average rate of 30.1k people/year."
   ]
  },
  {
   "cell_type": "markdown",
   "metadata": {},
   "source": [
    "### 8. What will be the rate for India?"
   ]
  },
  {
   "cell_type": "code",
   "execution_count": 33,
   "metadata": {},
   "outputs": [
    {
     "data": {
      "text/html": [
       "<div>\n",
       "<style scoped>\n",
       "    .dataframe tbody tr th:only-of-type {\n",
       "        vertical-align: middle;\n",
       "    }\n",
       "\n",
       "    .dataframe tbody tr th {\n",
       "        vertical-align: top;\n",
       "    }\n",
       "\n",
       "    .dataframe thead th {\n",
       "        text-align: right;\n",
       "    }\n",
       "</style>\n",
       "<table border=\"1\" class=\"dataframe\">\n",
       "  <thead>\n",
       "    <tr style=\"text-align: right;\">\n",
       "      <th></th>\n",
       "      <th>year</th>\n",
       "      <th>ethnic</th>\n",
       "      <th>value</th>\n",
       "    </tr>\n",
       "  </thead>\n",
       "  <tbody>\n",
       "    <tr>\n",
       "      <th>1</th>\n",
       "      <td>1960</td>\n",
       "      <td>Indians</td>\n",
       "      <td>133200</td>\n",
       "    </tr>\n",
       "    <tr>\n",
       "      <th>5</th>\n",
       "      <td>1961</td>\n",
       "      <td>Indians</td>\n",
       "      <td>135700</td>\n",
       "    </tr>\n",
       "    <tr>\n",
       "      <th>9</th>\n",
       "      <td>1962</td>\n",
       "      <td>Indians</td>\n",
       "      <td>137100</td>\n",
       "    </tr>\n",
       "    <tr>\n",
       "      <th>13</th>\n",
       "      <td>1963</td>\n",
       "      <td>Indians</td>\n",
       "      <td>137400</td>\n",
       "    </tr>\n",
       "    <tr>\n",
       "      <th>17</th>\n",
       "      <td>1964</td>\n",
       "      <td>Indians</td>\n",
       "      <td>138400</td>\n",
       "    </tr>\n",
       "  </tbody>\n",
       "</table>\n",
       "</div>"
      ],
      "text/plain": [
       "    year   ethnic   value\n",
       "1   1960  Indians  133200\n",
       "5   1961  Indians  135700\n",
       "9   1962  Indians  137100\n",
       "13  1963  Indians  137400\n",
       "17  1964  Indians  138400"
      ]
     },
     "execution_count": 33,
     "metadata": {},
     "output_type": "execute_result"
    }
   ],
   "source": [
    "#Aggregating dataframe on year and ethnic\n",
    "\n",
    "temp = df_2.groupby(['year','ethnic'])['value'].agg('sum')\n",
    "temp = pd.DataFrame(temp)\n",
    "temp.reset_index(inplace=True)\n",
    "temp = temp[temp.ethnic == \"Indians\"]\n",
    "temp.head()"
   ]
  },
  {
   "cell_type": "code",
   "execution_count": 34,
   "metadata": {},
   "outputs": [
    {
     "name": "stdout",
     "output_type": "stream",
     "text": [
      "Intercept \t: b =  -8575273.257568674\n",
      "Coefficients \t: a =  [4420.73658679]\n"
     ]
    }
   ],
   "source": [
    "# We perform linear regression again\n",
    "# Import LinearRegression model from Scikit-Learn\n",
    "from sklearn.linear_model import LinearRegression\n",
    "\n",
    "# Create a Linear Regression object\n",
    "i_model = LinearRegression()\n",
    "# Train the Linear Regression model\n",
    "i_model.fit(np.array(temp.year).reshape((-1,1)), temp.value) #need to reshape index for x array because of having only one variable a.k.a 1D array\n",
    "\n",
    "# Coefficients of the Linear Regression line\n",
    "print('Intercept \\t: b = ', i_model.intercept_)\n",
    "print('Coefficients \\t: a = ', i_model.coef_)"
   ]
  },
  {
   "cell_type": "markdown",
   "metadata": {},
   "source": [
    "Rate of Indians = 4420 people/year. The Chinese population grew up to 7x faster than Indians"
   ]
  },
  {
   "cell_type": "markdown",
   "metadata": {},
   "source": [
    "### 9. What will be the population of Singapore in 2019?\n",
    "We simply do a linear regression since the growth resembles a linear growth. Since we have created a `all_model` previously, we are just going to use that."
   ]
  },
  {
   "cell_type": "code",
   "execution_count": 35,
   "metadata": {},
   "outputs": [
    {
     "data": {
      "text/plain": [
       "4032581"
      ]
     },
     "execution_count": 35,
     "metadata": {},
     "output_type": "execute_result"
    }
   ],
   "source": [
    "round(all_model.predict(np.array(2019).reshape(-1,1))[0])"
   ]
  },
  {
   "cell_type": "code",
   "execution_count": 36,
   "metadata": {},
   "outputs": [
    {
     "data": {
      "text/html": [
       "<div>\n",
       "<style scoped>\n",
       "    .dataframe tbody tr th:only-of-type {\n",
       "        vertical-align: middle;\n",
       "    }\n",
       "\n",
       "    .dataframe tbody tr th {\n",
       "        vertical-align: top;\n",
       "    }\n",
       "\n",
       "    .dataframe thead th {\n",
       "        text-align: right;\n",
       "    }\n",
       "</style>\n",
       "<table border=\"1\" class=\"dataframe\">\n",
       "  <thead>\n",
       "    <tr style=\"text-align: right;\">\n",
       "      <th></th>\n",
       "      <th>M-Malay</th>\n",
       "      <th>F-Malay</th>\n",
       "      <th>M-Chinese</th>\n",
       "      <th>F-Chinese</th>\n",
       "      <th>M-Indians</th>\n",
       "      <th>F-Indians</th>\n",
       "      <th>M-Other</th>\n",
       "      <th>F-Other</th>\n",
       "      <th>Total</th>\n",
       "    </tr>\n",
       "    <tr>\n",
       "      <th>Year</th>\n",
       "      <th></th>\n",
       "      <th></th>\n",
       "      <th></th>\n",
       "      <th></th>\n",
       "      <th></th>\n",
       "      <th></th>\n",
       "      <th></th>\n",
       "      <th></th>\n",
       "      <th></th>\n",
       "    </tr>\n",
       "  </thead>\n",
       "  <tbody>\n",
       "    <tr>\n",
       "      <th>2018</th>\n",
       "      <td>266486</td>\n",
       "      <td>269338</td>\n",
       "      <td>1445375</td>\n",
       "      <td>1523906</td>\n",
       "      <td>184496</td>\n",
       "      <td>176032</td>\n",
       "      <td>59481</td>\n",
       "      <td>69169</td>\n",
       "      <td>3994283</td>\n",
       "    </tr>\n",
       "  </tbody>\n",
       "</table>\n",
       "</div>"
      ],
      "text/plain": [
       "      M-Malay  F-Malay  M-Chinese  F-Chinese  M-Indians  F-Indians  M-Other  \\\n",
       "Year                                                                          \n",
       "2018   266486   269338    1445375    1523906     184496     176032    59481   \n",
       "\n",
       "      F-Other    Total  \n",
       "Year                    \n",
       "2018    69169  3994283  "
      ]
     },
     "execution_count": 36,
     "metadata": {},
     "output_type": "execute_result"
    }
   ],
   "source": [
    "df.tail(1)"
   ]
  },
  {
   "cell_type": "markdown",
   "metadata": {},
   "source": [
    "### 10. What will be the Chinese population in SG in 2019?"
   ]
  },
  {
   "cell_type": "code",
   "execution_count": 37,
   "metadata": {},
   "outputs": [
    {
     "data": {
      "text/plain": [
       "3035087"
      ]
     },
     "execution_count": 37,
     "metadata": {},
     "output_type": "execute_result"
    }
   ],
   "source": [
    "round(c_model.predict(np.array(2019).reshape(-1,1))[0])"
   ]
  },
  {
   "cell_type": "markdown",
   "metadata": {},
   "source": [
    "### 11. What will be the Indian population in SG in 2019?"
   ]
  },
  {
   "cell_type": "code",
   "execution_count": 38,
   "metadata": {},
   "outputs": [
    {
     "data": {
      "text/plain": [
       "350194"
      ]
     },
     "execution_count": 38,
     "metadata": {},
     "output_type": "execute_result"
    }
   ],
   "source": [
    "round(i_model.predict(np.array(2019).reshape(-1,1))[0])"
   ]
  },
  {
   "cell_type": "markdown",
   "metadata": {},
   "source": [
    "### 12. What will be the Male population in SG in 2019?"
   ]
  },
  {
   "cell_type": "code",
   "execution_count": 39,
   "metadata": {},
   "outputs": [
    {
     "data": {
      "text/html": [
       "<div>\n",
       "<style scoped>\n",
       "    .dataframe tbody tr th:only-of-type {\n",
       "        vertical-align: middle;\n",
       "    }\n",
       "\n",
       "    .dataframe tbody tr th {\n",
       "        vertical-align: top;\n",
       "    }\n",
       "\n",
       "    .dataframe thead th {\n",
       "        text-align: right;\n",
       "    }\n",
       "</style>\n",
       "<table border=\"1\" class=\"dataframe\">\n",
       "  <thead>\n",
       "    <tr style=\"text-align: right;\">\n",
       "      <th></th>\n",
       "      <th>year</th>\n",
       "      <th>gender</th>\n",
       "      <th>value</th>\n",
       "    </tr>\n",
       "  </thead>\n",
       "  <tbody>\n",
       "    <tr>\n",
       "      <th>1</th>\n",
       "      <td>1960</td>\n",
       "      <td>Male</td>\n",
       "      <td>859600</td>\n",
       "    </tr>\n",
       "    <tr>\n",
       "      <th>3</th>\n",
       "      <td>1961</td>\n",
       "      <td>Male</td>\n",
       "      <td>886500</td>\n",
       "    </tr>\n",
       "    <tr>\n",
       "      <th>5</th>\n",
       "      <td>1962</td>\n",
       "      <td>Male</td>\n",
       "      <td>909500</td>\n",
       "    </tr>\n",
       "    <tr>\n",
       "      <th>7</th>\n",
       "      <td>1963</td>\n",
       "      <td>Male</td>\n",
       "      <td>929300</td>\n",
       "    </tr>\n",
       "    <tr>\n",
       "      <th>9</th>\n",
       "      <td>1964</td>\n",
       "      <td>Male</td>\n",
       "      <td>951500</td>\n",
       "    </tr>\n",
       "  </tbody>\n",
       "</table>\n",
       "</div>"
      ],
      "text/plain": [
       "   year gender   value\n",
       "1  1960   Male  859600\n",
       "3  1961   Male  886500\n",
       "5  1962   Male  909500\n",
       "7  1963   Male  929300\n",
       "9  1964   Male  951500"
      ]
     },
     "execution_count": 39,
     "metadata": {},
     "output_type": "execute_result"
    }
   ],
   "source": [
    "#Aggregating dataframe on year and gender\n",
    "\n",
    "temp = df_2.groupby(['year','gender'])['value'].agg('sum')\n",
    "temp = pd.DataFrame(temp)\n",
    "temp.reset_index(inplace=True)\n",
    "temp = temp[temp.gender == \"Male\"]\n",
    "temp.head()\n"
   ]
  },
  {
   "cell_type": "code",
   "execution_count": 40,
   "metadata": {},
   "outputs": [
    {
     "name": "stdout",
     "output_type": "stream",
     "text": [
      "Coefficients \t: a =  [19356.03927528]\n"
     ]
    }
   ],
   "source": [
    "# We perform linear regression again\n",
    "# Import LinearRegression model from Scikit-Learn\n",
    "from sklearn.linear_model import LinearRegression\n",
    "\n",
    "# Create a Linear Regression object\n",
    "male_model = LinearRegression()\n",
    "# Train the Linear Regression model\n",
    "male_model.fit(np.array(temp.year).reshape((-1,1)), temp.value) #need to reshape index for x array because of having only one variable a.k.a 1D array\n",
    "\n",
    "# Coefficients of the Linear Regression line\n",
    "print('Coefficients \\t: a = ', male_model.coef_)"
   ]
  },
  {
   "cell_type": "code",
   "execution_count": 41,
   "metadata": {},
   "outputs": [
    {
     "data": {
      "text/plain": [
       "1985826"
      ]
     },
     "execution_count": 41,
     "metadata": {},
     "output_type": "execute_result"
    }
   ],
   "source": [
    "round(male_model.predict(np.array(2019).reshape(-1,1))[0])"
   ]
  },
  {
   "cell_type": "code",
   "execution_count": 42,
   "metadata": {},
   "outputs": [
    {
     "data": {
      "text/html": [
       "<div>\n",
       "<style scoped>\n",
       "    .dataframe tbody tr th:only-of-type {\n",
       "        vertical-align: middle;\n",
       "    }\n",
       "\n",
       "    .dataframe tbody tr th {\n",
       "        vertical-align: top;\n",
       "    }\n",
       "\n",
       "    .dataframe thead th {\n",
       "        text-align: right;\n",
       "    }\n",
       "</style>\n",
       "<table border=\"1\" class=\"dataframe\">\n",
       "  <thead>\n",
       "    <tr style=\"text-align: right;\">\n",
       "      <th></th>\n",
       "      <th>year</th>\n",
       "      <th>gender</th>\n",
       "      <th>value</th>\n",
       "    </tr>\n",
       "  </thead>\n",
       "  <tbody>\n",
       "    <tr>\n",
       "      <th>109</th>\n",
       "      <td>2014</td>\n",
       "      <td>Male</td>\n",
       "      <td>1902410</td>\n",
       "    </tr>\n",
       "    <tr>\n",
       "      <th>111</th>\n",
       "      <td>2015</td>\n",
       "      <td>Male</td>\n",
       "      <td>1916628</td>\n",
       "    </tr>\n",
       "    <tr>\n",
       "      <th>113</th>\n",
       "      <td>2016</td>\n",
       "      <td>Male</td>\n",
       "      <td>1929526</td>\n",
       "    </tr>\n",
       "    <tr>\n",
       "      <th>115</th>\n",
       "      <td>2017</td>\n",
       "      <td>Male</td>\n",
       "      <td>1943545</td>\n",
       "    </tr>\n",
       "    <tr>\n",
       "      <th>117</th>\n",
       "      <td>2018</td>\n",
       "      <td>Male</td>\n",
       "      <td>1955838</td>\n",
       "    </tr>\n",
       "  </tbody>\n",
       "</table>\n",
       "</div>"
      ],
      "text/plain": [
       "     year gender    value\n",
       "109  2014   Male  1902410\n",
       "111  2015   Male  1916628\n",
       "113  2016   Male  1929526\n",
       "115  2017   Male  1943545\n",
       "117  2018   Male  1955838"
      ]
     },
     "execution_count": 42,
     "metadata": {},
     "output_type": "execute_result"
    }
   ],
   "source": [
    "temp.tail()"
   ]
  },
  {
   "cell_type": "markdown",
   "metadata": {},
   "source": [
    "Male population will increase from 1.955 mil to 1.985 mil based on the linear model. Note that the difference is greater than the gradient a which equals to 19.3k per year simply because the model is an approximation. "
   ]
  },
  {
   "cell_type": "markdown",
   "metadata": {},
   "source": [
    "### 13. What will be the Female population in SG in 2019?"
   ]
  },
  {
   "cell_type": "code",
   "execution_count": 43,
   "metadata": {},
   "outputs": [
    {
     "name": "stdout",
     "output_type": "stream",
     "text": [
      "The estimated female population in 2019 will be 2046755\n"
     ]
    }
   ],
   "source": [
    "#Aggregating dataframe on year and gender\n",
    "temp = df_2.groupby(['year','gender'])['value'].agg('sum')\n",
    "temp = pd.DataFrame(temp)\n",
    "temp.reset_index(inplace=True)\n",
    "temp = temp[temp.gender == \"Female\"]\n",
    "\n",
    "female_model = LinearRegression()\n",
    "# Train the Linear Regression model\n",
    "female_model.fit(np.array(temp.year).reshape((-1,1)), temp.value) #need to reshape index for x array because of having only one variable a.k.a 1D array\n",
    "\n",
    "print(\"The estimated female population in 2019 will be\",round(female_model.predict(np.array(2019).reshape(-1,1))[0]))"
   ]
  },
  {
   "cell_type": "markdown",
   "metadata": {},
   "source": [
    "### 14. When will Singapore population reach 5 million?\n",
    "Take note that the dataset used does not represent the true Singapore population numbers."
   ]
  },
  {
   "cell_type": "markdown",
   "metadata": {},
   "source": [
    "To solve this we need to get the population equation. Basic form of linear eq: y = mx + c, where y is the `population number`, m is `coefficient`, x is the `year`, and c is the `intercept`.\n",
    "\n",
    "So now solve for x! x = (y-c)/m"
   ]
  },
  {
   "cell_type": "code",
   "execution_count": 44,
   "metadata": {},
   "outputs": [
    {
     "name": "stdout",
     "output_type": "stream",
     "text": [
      "Intercept \t: b =  -79150662.53483345\n",
      "Coefficients \t: a =  41200.21969608417\n"
     ]
    }
   ],
   "source": [
    "# Coefficients of the Linear Regression line\n",
    "print('Intercept \\t: b = ', all_model.intercept_)\n",
    "print('Coefficients \\t: a = ', all_model.coef_[0])"
   ]
  },
  {
   "cell_type": "code",
   "execution_count": 45,
   "metadata": {},
   "outputs": [
    {
     "name": "stdout",
     "output_type": "stream",
     "text": [
      "The Singapore population will reach 5 mil in 2042 Month 6\n"
     ]
    }
   ],
   "source": [
    "x = (5000000 - all_model.intercept_) / all_model.coef_[0]\n",
    "m = (x-round(x))*12\n",
    "\n",
    "print(f'The Singapore population will reach 5 mil in {round(x)} Month {round(m)}')"
   ]
  },
  {
   "cell_type": "markdown",
   "metadata": {},
   "source": [
    "### The End"
   ]
  }
 ],
 "metadata": {
  "kernelspec": {
   "display_name": "Python 3",
   "language": "python",
   "name": "python3"
  },
  "language_info": {
   "codemirror_mode": {
    "name": "ipython",
    "version": 3
   },
   "file_extension": ".py",
   "mimetype": "text/x-python",
   "name": "python",
   "nbconvert_exporter": "python",
   "pygments_lexer": "ipython3",
   "version": "3.8.5"
  }
 },
 "nbformat": 4,
 "nbformat_minor": 5
}
